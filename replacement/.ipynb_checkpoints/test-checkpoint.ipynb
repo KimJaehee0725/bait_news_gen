{
 "cells": [
  {
   "cell_type": "code",
   "execution_count": 1,
   "metadata": {},
   "outputs": [
    {
     "name": "stderr",
     "output_type": "stream",
     "text": [
      "/opt/conda/lib/python3.8/site-packages/tqdm/auto.py:22: TqdmWarning: IProgress not found. Please update jupyter and ipywidgets. See https://ipywidgets.readthedocs.io/en/stable/user_install.html\n",
      "  from .autonotebook import tqdm as notebook_tqdm\n"
     ]
    }
   ],
   "source": [
    "from glob import glob\n",
    "import os\n",
    "import json\n",
    "import numpy as np\n",
    "import argparse\n",
    "import yaml\n",
    "import torch\n",
    "import random\n",
    "import time\n",
    "\n",
    "from tqdm.auto import tqdm\n",
    "from tqdm import notebook\n",
    "from methods import get_similar_filepath_dict, extract_nouns, extract_text\n",
    "from utils import score_overlap"
   ]
  },
  {
   "cell_type": "code",
   "execution_count": 2,
   "metadata": {},
   "outputs": [],
   "source": [
    "cfg = {\n",
    "    'datadir' : '/workspace/code/Fake-News-Detection-Dataset/data/Part1',\n",
    "    'savedir' : '../data-saeran',\n",
    "    'METHOD': {\n",
    "        'name'    : 'tfidf_overlap_intersection', #('tfidf-overlap-intersection', 'tfidf-overlap-count')\n",
    "        'target' : 'content',\n",
    "        'source'  : 'title-content', \n",
    "        'document' : 'full',\n",
    "        'select_name' : 'tfidf_overlap_content_all_category_select',\n",
    "        'extract' : 'all',\n",
    "        'topk' : 20,\n",
    "        },\n",
    "    'SEED':42    \n",
    "    }"
   ]
  },
  {
   "cell_type": "code",
   "execution_count": 3,
   "metadata": {},
   "outputs": [],
   "source": [
    "# load file list\n",
    "file_list = glob(os.path.join(cfg['datadir'], '[!sample]*/Clickbait_Auto/*/*'))\n",
    "save_list = [p.replace(cfg['datadir'], cfg['savedir']) for p in file_list]"
   ]
  },
  {
   "cell_type": "code",
   "execution_count": 4,
   "metadata": {},
   "outputs": [],
   "source": [
    "# make directory to save files\n",
    "partition_path = glob(os.path.join(cfg['datadir'], '[!sample]*/Clickbait_Auto/*'))\n",
    "partition_path = [p.replace(cfg['datadir'], cfg['savedir']) for p in partition_path]\n",
    "for path in partition_path:\n",
    "    os.makedirs(path, exist_ok=True)  "
   ]
  },
  {
   "cell_type": "code",
   "execution_count": null,
   "metadata": {},
   "outputs": [],
   "source": [
    "results = test(\n",
    "    method_name          = cfg['METHOD']['name'],\n",
    "    make_sim_matrix_func = __import__('methods').__dict__[\"tfidf_sim_matrix\"] if 'overlap' in cfg['METHOD']['name'] \\\n",
    "                        else __import__('methods').__dict__[f\"{cfg['METHOD']['name']}_sim_matrix\"],\n",
    "    extract_text_func    = extract_text if ('dense' in cfg['METHOD']['name']) or (cfg['METHOD']['extract'] == 'all') else extract_nouns,\n",
    "    file_list            = file_list,\n",
    "    category_list        = os.listdir(os.path.join(cfg['savedir'],'train/Clickbait_Auto')),\n",
    "    target               = cfg['METHOD']['target'],\n",
    "    source               = cfg['METHOD']['source'],\n",
    "    savedir              = cfg['savedir'],\n",
    ")"
   ]
  },
  {
   "cell_type": "code",
   "execution_count": null,
   "metadata": {},
   "outputs": [
    {
     "name": "stderr",
     "output_type": "stream",
     "text": [
      "Category: GB:   0%|                                                                                                                                                   | 0/7 [00:00<?, ?it/s]\n",
      "Extract Morphs(content):   0%|                                                                                                                                    | 0/20355 [00:00<?, ?it/s]\u001b[A\n",
      "Extract Morphs(content):   5%|██████▎                                                                                                               | 1092/20355 [00:00<00:01, 10919.20it/s]\u001b[A\n",
      "Extract Morphs(content):  11%|████████████▋                                                                                                         | 2184/20355 [00:00<00:01, 10717.58it/s]\u001b[A\n",
      "Extract Morphs(content):  16%|███████████████████                                                                                                   | 3280/20355 [00:00<00:01, 10825.51it/s]\u001b[A\n",
      "Extract Morphs(content):  21%|█████████████████████████▎                                                                                            | 4363/20355 [00:00<00:01, 10740.00it/s]\u001b[A\n",
      "Extract Morphs(content):  27%|███████████████████████████████▊                                                                                      | 5481/20355 [00:00<00:01, 10896.77it/s]\u001b[A\n",
      "Extract Morphs(content):  32%|██████████████████████████████████████                                                                                | 6571/20355 [00:00<00:01, 10718.42it/s]\u001b[A\n",
      "Extract Morphs(content):  38%|████████████████████████████████████████████▍                                                                         | 7665/20355 [00:00<00:01, 10788.98it/s]\u001b[A\n",
      "Extract Morphs(content):  43%|███████████████████████████████████████████████████                                                                   | 8799/20355 [00:00<00:01, 10962.12it/s]\u001b[A\n",
      "Extract Morphs(content):  49%|█████████████████████████████████████████████████████████▋                                                            | 9946/20355 [00:00<00:00, 11119.14it/s]\u001b[A\n",
      "Extract Morphs(content):  55%|███████████████████████████████████████████████████████████████▊                                                     | 11104/20355 [00:01<00:00, 11260.32it/s]\u001b[A\n",
      "Extract Morphs(content):  60%|██████████████████████████████████████████████████████████████████████▎                                              | 12231/20355 [00:01<00:00, 11174.95it/s]\u001b[A\n",
      "Extract Morphs(content):  66%|████████████████████████████████████████████████████████████████████████████▋                                        | 13349/20355 [00:01<00:00, 10982.37it/s]\u001b[A\n",
      "Extract Morphs(content):  71%|███████████████████████████████████████████████████████████████████████████████████                                  | 14449/20355 [00:01<00:00, 10946.88it/s]\u001b[A\n",
      "Extract Morphs(content):  76%|█████████████████████████████████████████████████████████████████████████████████████████▎                           | 15545/20355 [00:01<00:00, 10938.28it/s]\u001b[A\n",
      "Extract Morphs(content):  82%|███████████████████████████████████████████████████████████████████████████████████████████████▉                     | 16699/20355 [00:01<00:00, 11116.52it/s]\u001b[A\n",
      "Extract Morphs(content):  88%|██████████████████████████████████████████████████████████████████████████████████████████████████████▍              | 17812/20355 [00:01<00:00, 10929.43it/s]\u001b[A\n",
      "Extract Morphs(content):  93%|████████████████████████████████████████████████████████████████████████████████████████████████████████████▊        | 18931/20355 [00:01<00:00, 11005.41it/s]\u001b[A\n",
      "Extract Morphs(content):  98%|███████████████████████████████████████████████████████████████████████████████████████████████████████████████████▏ | 20043/20355 [00:01<00:00, 11034.71it/s]\u001b[A\n",
      "                                                                                                                                                                                            \u001b[A"
     ]
    }
   ],
   "source": []
  },
  {
   "cell_type": "markdown",
   "metadata": {},
   "source": [
    "sim_matrix = np.array([[-1.        ,  0.0724181 ,  0.02124586,0.00400536,\n",
    "         0.0161134 ,  0.007285 ],\n",
    "         [0.0724181 , -1.        ,  0.00466864, 0.00176657,\n",
    "         0.00753283,  0.00397134],\n",
    "         [ 0.02124586,  0.00466864, -1.        , 0.00432105,\n",
    "         0.00581972,  0.00160687],\n",
    "         [ 0.00400536,  0.00176657,  0.00432105, -1.        ,\n",
    "         0.01193325,  0.01158193],\n",
    "         [ 0.0161134 ,  0.00753283,  0.00581972, 0.01193325,\n",
    "        -1.        ,  0.01629153],\n",
    "        [ 0.007285  ,  0.00397134,  0.00160687,  0.01158193,\n",
    "         0.01629153, -1.        ]\n",
    "         ])"
   ]
  },
  {
   "cell_type": "code",
   "execution_count": 18,
   "metadata": {},
   "outputs": [
    {
     "data": {
      "text/plain": [
       "2"
      ]
     },
     "execution_count": 18,
     "metadata": {},
     "output_type": "execute_result"
    }
   ],
   "source": [
    "sum(np.argmax([[1,2,3,4,34,3],[2,3,4,5,3,2]], axis=1) == [4,3])"
   ]
  },
  {
   "cell_type": "code",
   "execution_count": null,
   "metadata": {},
   "outputs": [],
   "source": [
    "target_ids = range(len(sim_matrix))\n",
    "top_1 = sum(np.argmax(sim_matrix, axis=1) == target_ids)\n",
    "top_1_accuracy = round(top_1/len(sim_matrix), 5)"
   ]
  }
 ],
 "metadata": {
  "kernelspec": {
   "display_name": "Python 3 (ipykernel)",
   "language": "python",
   "name": "python3"
  },
  "language_info": {
   "codemirror_mode": {
    "name": "ipython",
    "version": 3
   },
   "file_extension": ".py",
   "mimetype": "text/x-python",
   "name": "python",
   "nbconvert_exporter": "python",
   "pygments_lexer": "ipython3",
   "version": "3.8.13"
  }
 },
 "nbformat": 4,
 "nbformat_minor": 4
}
