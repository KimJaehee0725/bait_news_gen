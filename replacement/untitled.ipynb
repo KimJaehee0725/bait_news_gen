{
 "cells": [
  {
   "cell_type": "code",
   "execution_count": 1,
   "metadata": {},
   "outputs": [],
   "source": [
    "import pandas as pd"
   ]
  },
  {
   "cell_type": "code",
   "execution_count": 2,
   "metadata": {},
   "outputs": [],
   "source": [
    "train = pd.read_csv('/workspace/code/bait_news_gen/data/Fake/tfidf_full_full_all/filtered/fake_top1_1.0.csv')"
   ]
  },
  {
   "cell_type": "code",
   "execution_count": 8,
   "metadata": {},
   "outputs": [
    {
     "data": {
      "text/plain": [
       "132000"
      ]
     },
     "execution_count": 8,
     "metadata": {},
     "output_type": "execute_result"
    }
   ],
   "source": [
    "len(train)"
   ]
  },
  {
   "cell_type": "code",
   "execution_count": 8,
   "metadata": {},
   "outputs": [
    {
     "name": "stdout",
     "output_type": "stream",
     "text": [
      "(array([     0,      1,      2, ..., 131889, 131890, 131891]),)\n"
     ]
    }
   ],
   "source": [
    "import numpy as np\n",
    "# filter dataframe                                  \n",
    "filtered_values = np.where((0.90 < train['BERTScore']) & ( train['BERTScore'] < 0.99))\n",
    "print(filtered_values)\n",
    "df = train.loc[filtered_values]"
   ]
  },
  {
   "cell_type": "code",
   "execution_count": 11,
   "metadata": {},
   "outputs": [
    {
     "data": {
      "text/plain": [
       "131892"
      ]
     },
     "execution_count": 11,
     "metadata": {},
     "output_type": "execute_result"
    }
   ],
   "source": [
    "len(train)"
   ]
  },
  {
   "cell_type": "code",
   "execution_count": 10,
   "metadata": {},
   "outputs": [
    {
     "data": {
      "text/plain": [
       "131408"
      ]
     },
     "execution_count": 10,
     "metadata": {},
     "output_type": "execute_result"
    }
   ],
   "source": [
    "len(df)"
   ]
  },
  {
   "cell_type": "code",
   "execution_count": 15,
   "metadata": {},
   "outputs": [],
   "source": [
    "df[df['BERTScore'] > 0.98].to_html('bert_score.html')"
   ]
  },
  {
   "cell_type": "code",
   "execution_count": 9,
   "metadata": {},
   "outputs": [
    {
     "data": {
      "text/html": [
       "<div>\n",
       "<style scoped>\n",
       "    .dataframe tbody tr th:only-of-type {\n",
       "        vertical-align: middle;\n",
       "    }\n",
       "\n",
       "    .dataframe tbody tr th {\n",
       "        vertical-align: top;\n",
       "    }\n",
       "\n",
       "    .dataframe thead th {\n",
       "        text-align: right;\n",
       "    }\n",
       "</style>\n",
       "<table border=\"1\" class=\"dataframe\">\n",
       "  <thead>\n",
       "    <tr style=\"text-align: right;\">\n",
       "      <th></th>\n",
       "      <th>news_id</th>\n",
       "      <th>original_title</th>\n",
       "      <th>content</th>\n",
       "      <th>sim_news_id</th>\n",
       "      <th>bait_title</th>\n",
       "      <th>category</th>\n",
       "      <th>label</th>\n",
       "      <th>bait_content</th>\n",
       "      <th>BERTScore</th>\n",
       "    </tr>\n",
       "  </thead>\n",
       "  <tbody>\n",
       "    <tr>\n",
       "      <th>0</th>\n",
       "      <td>PO_M03_417681</td>\n",
       "      <td>정경두 “SLBM 도발은 남북군사합의에 없다”</td>\n",
       "      <td>정경두 국방부 장관은 2일 국회 국방위원회 국정감사에서 북한의 이날 미사일 발사가 ...</td>\n",
       "      <td>PO_M03_108013</td>\n",
       "      <td>정의용 \\\"北 발사체 도발, 9·19 남북군사합의 위반 아니다\\\"</td>\n",
       "      <td>PO</td>\n",
       "      <td>0</td>\n",
       "      <td>정의용 청와대 국가안보실장이 6일 최근 잇따른 북한의 미사일 발사가 9·19 남북군...</td>\n",
       "      <td>0.951438</td>\n",
       "    </tr>\n",
       "    <tr>\n",
       "      <th>1</th>\n",
       "      <td>IS_M10_079706</td>\n",
       "      <td>상반기 사이버 보안 3대 위협, 랜섬웨어 그리고…</td>\n",
       "      <td>올해 상반기 국내외 사이버 보안 위협 특징으로 랜섬웨어가 꼽혔다.\\nPC와 모바일에...</td>\n",
       "      <td>IS_M14_070355</td>\n",
       "      <td>한국 노린 APT공격 징후...10개 액티브X 취약점 이용</td>\n",
       "      <td>IS</td>\n",
       "      <td>0</td>\n",
       "      <td>한국을 노린 지능형지속위협(APT) 공격 징후가 포착됐다.\\n북한으로 추정되는 해커...</td>\n",
       "      <td>0.931320</td>\n",
       "    </tr>\n",
       "    <tr>\n",
       "      <th>2</th>\n",
       "      <td>EC_M05_227267</td>\n",
       "      <td>대한항공-현대오일뱅크, 바이오항공유 협력 MOU</td>\n",
       "      <td>대한항공이 항공 부문 기후변화에 대응하기 위해 현대오일뱅크와 협력한다.\\n대한항공과...</td>\n",
       "      <td>EC_M02_005162</td>\n",
       "      <td>대한항공, 도심항공교통 시대 준비 나선다</td>\n",
       "      <td>EC</td>\n",
       "      <td>0</td>\n",
       "      <td>대한항공이 도심항공교통(UAM, Urban Air Mobility) 시대의 안전 운...</td>\n",
       "      <td>0.932654</td>\n",
       "    </tr>\n",
       "    <tr>\n",
       "      <th>3</th>\n",
       "      <td>SO_M06_436508</td>\n",
       "      <td>성남시, 문화상 수상자 4명 선정…8일 시민의 날 시상</td>\n",
       "      <td>성남시는 ‘제29회 성남시 문화상 수상자’로 교육 부문 김학수(61), 예술 부문 ...</td>\n",
       "      <td>SO_M06_129262</td>\n",
       "      <td>성남시, 성남시립박물관 명칭 ‘성남역사박물관’으로 결정</td>\n",
       "      <td>SO</td>\n",
       "      <td>0</td>\n",
       "      <td>성남시는 오는 2025년 상반기 개관을 목표로 수정구 신흥동에 건립 추진 중인 시립...</td>\n",
       "      <td>0.953643</td>\n",
       "    </tr>\n",
       "    <tr>\n",
       "      <th>4</th>\n",
       "      <td>EC_M02_003013</td>\n",
       "      <td>롯데하이마트, 조손가정 결연아동에 입학 격려 지원금 전달</td>\n",
       "      <td>롯데하이마트(대표 황영근)가 24일 입학을 기다리고 있는 조손가정 결연아동 33명을...</td>\n",
       "      <td>EC_M05_246826</td>\n",
       "      <td>롯데하이마트, 해외 결연 아동에 태양광 랜턴 기증</td>\n",
       "      <td>EC</td>\n",
       "      <td>0</td>\n",
       "      <td>롯데하이마트는 해외 에너지 소외계층 아동들을 위해 친환경 태양광 랜턴 솔라미를 전달...</td>\n",
       "      <td>0.957993</td>\n",
       "    </tr>\n",
       "    <tr>\n",
       "      <th>5</th>\n",
       "      <td>IS_M14_068530</td>\n",
       "      <td>무안군 SW교육, 3D프린터·드론에 초점…노하우 전수로 취·창업 돕는다</td>\n",
       "      <td>무안군청은 3D프린터∙드론 등 소프트웨어(SW) 교육 주요 강사 양성에 주력한다.\\...</td>\n",
       "      <td>IS_M14_343068</td>\n",
       "      <td>\\\"드론사업 변곡점 도래, 국내 드론기업 초연결 초지능에 초점 맞춰야\\\"</td>\n",
       "      <td>IS</td>\n",
       "      <td>0</td>\n",
       "      <td>“드론산업은 운용체계부터 하드웨어·소프트웨어(SW)까지 전 영역에서 혁신이 일어나는...</td>\n",
       "      <td>0.944907</td>\n",
       "    </tr>\n",
       "    <tr>\n",
       "      <th>6</th>\n",
       "      <td>LC_M03_374277</td>\n",
       "      <td>번뜩이는 아이디어로 창업 성공한 의사·간호사들</td>\n",
       "      <td>의사·간호사들의 헬스케어 산업 창업에 대한 관심이 높아지고 있으나 정부의 엄격한 규...</td>\n",
       "      <td>LC_M09_366101</td>\n",
       "      <td>“책이 있는 한 책방도 계속”…‘서점책방창업학교’ 오픈</td>\n",
       "      <td>LC</td>\n",
       "      <td>0</td>\n",
       "      <td>요즘 떠오르는 ‘핫플레이스’의 공통점은 뭘까.\\n김소영·오상진 아나운서 부부가 운영...</td>\n",
       "      <td>0.929836</td>\n",
       "    </tr>\n",
       "    <tr>\n",
       "      <th>7</th>\n",
       "      <td>GB_M11_286727</td>\n",
       "      <td>미국 경제 3분의 1 멈춘다…외출금지령 5개주로 늘어</td>\n",
       "      <td>신종 코로나바이러스 감염증(코로나19) 확산으로 미국 경제 3분의 1이 멈추게 됐다...</td>\n",
       "      <td>GB_M12_316359</td>\n",
       "      <td>주말만 봉쇄, 성별 외출제, 면역카드… 진화하는 코로나 대처법</td>\n",
       "      <td>GB</td>\n",
       "      <td>0</td>\n",
       "      <td>‘남녀 외출 2부제’를 도입한 페루, 주말에만 도시 봉쇄하는 터키, 신분증 번호에 ...</td>\n",
       "      <td>0.949629</td>\n",
       "    </tr>\n",
       "    <tr>\n",
       "      <th>8</th>\n",
       "      <td>SO_M06_431834</td>\n",
       "      <td>윤석열 장모, 명예훼손·무고 혐의로 옛 동업자 고소</td>\n",
       "      <td>윤석열 전 검찰총장의 장모 최모(74)씨 측이 과거 동업자였던 정대택씨를 명예훼손·...</td>\n",
       "      <td>SO_M06_429943</td>\n",
       "      <td>'요양급여 부정수급' 윤석열 장모 내달 2일 1심 선고</td>\n",
       "      <td>SO</td>\n",
       "      <td>0</td>\n",
       "      <td>‘요양급여 부정수급’ 혐의로 재판에 넘겨진 윤석열 전 검찰총장의 장모 최씨에 대한 ...</td>\n",
       "      <td>0.932338</td>\n",
       "    </tr>\n",
       "    <tr>\n",
       "      <th>9</th>\n",
       "      <td>LC_M03_374897</td>\n",
       "      <td>에볼라, 공기 통해 감염되지 않아…접촉 주의하면 예방 가능</td>\n",
       "      <td>서아프리카에서 발생한 에볼라바이러스의 공포가 빠르게 확산되고 있다.\\n세계보건기구(...</td>\n",
       "      <td>LC_M03_101221</td>\n",
       "      <td>GSK·J&amp;J 에볼라 백신 개발 박차…상용화 가능성은?</td>\n",
       "      <td>LC</td>\n",
       "      <td>0</td>\n",
       "      <td>GSK·J&amp;J 등 다국적제약회사를 중심으로 에볼라 백신 개발에 박차를 가하고 있다....</td>\n",
       "      <td>0.946776</td>\n",
       "    </tr>\n",
       "  </tbody>\n",
       "</table>\n",
       "</div>"
      ],
      "text/plain": [
       "         news_id                           original_title  \\\n",
       "0  PO_M03_417681                정경두 “SLBM 도발은 남북군사합의에 없다”   \n",
       "1  IS_M10_079706              상반기 사이버 보안 3대 위협, 랜섬웨어 그리고…   \n",
       "2  EC_M05_227267               대한항공-현대오일뱅크, 바이오항공유 협력 MOU   \n",
       "3  SO_M06_436508           성남시, 문화상 수상자 4명 선정…8일 시민의 날 시상   \n",
       "4  EC_M02_003013          롯데하이마트, 조손가정 결연아동에 입학 격려 지원금 전달   \n",
       "5  IS_M14_068530  무안군 SW교육, 3D프린터·드론에 초점…노하우 전수로 취·창업 돕는다   \n",
       "6  LC_M03_374277                번뜩이는 아이디어로 창업 성공한 의사·간호사들   \n",
       "7  GB_M11_286727            미국 경제 3분의 1 멈춘다…외출금지령 5개주로 늘어   \n",
       "8  SO_M06_431834             윤석열 장모, 명예훼손·무고 혐의로 옛 동업자 고소   \n",
       "9  LC_M03_374897         에볼라, 공기 통해 감염되지 않아…접촉 주의하면 예방 가능   \n",
       "\n",
       "                                             content    sim_news_id  \\\n",
       "0  정경두 국방부 장관은 2일 국회 국방위원회 국정감사에서 북한의 이날 미사일 발사가 ...  PO_M03_108013   \n",
       "1  올해 상반기 국내외 사이버 보안 위협 특징으로 랜섬웨어가 꼽혔다.\\nPC와 모바일에...  IS_M14_070355   \n",
       "2  대한항공이 항공 부문 기후변화에 대응하기 위해 현대오일뱅크와 협력한다.\\n대한항공과...  EC_M02_005162   \n",
       "3  성남시는 ‘제29회 성남시 문화상 수상자’로 교육 부문 김학수(61), 예술 부문 ...  SO_M06_129262   \n",
       "4  롯데하이마트(대표 황영근)가 24일 입학을 기다리고 있는 조손가정 결연아동 33명을...  EC_M05_246826   \n",
       "5  무안군청은 3D프린터∙드론 등 소프트웨어(SW) 교육 주요 강사 양성에 주력한다.\\...  IS_M14_343068   \n",
       "6  의사·간호사들의 헬스케어 산업 창업에 대한 관심이 높아지고 있으나 정부의 엄격한 규...  LC_M09_366101   \n",
       "7  신종 코로나바이러스 감염증(코로나19) 확산으로 미국 경제 3분의 1이 멈추게 됐다...  GB_M12_316359   \n",
       "8  윤석열 전 검찰총장의 장모 최모(74)씨 측이 과거 동업자였던 정대택씨를 명예훼손·...  SO_M06_429943   \n",
       "9  서아프리카에서 발생한 에볼라바이러스의 공포가 빠르게 확산되고 있다.\\n세계보건기구(...  LC_M03_101221   \n",
       "\n",
       "                                 bait_title category  label  \\\n",
       "0      정의용 \\\"北 발사체 도발, 9·19 남북군사합의 위반 아니다\\\"       PO      0   \n",
       "1          한국 노린 APT공격 징후...10개 액티브X 취약점 이용       IS      0   \n",
       "2                    대한항공, 도심항공교통 시대 준비 나선다       EC      0   \n",
       "3            성남시, 성남시립박물관 명칭 ‘성남역사박물관’으로 결정       SO      0   \n",
       "4               롯데하이마트, 해외 결연 아동에 태양광 랜턴 기증       EC      0   \n",
       "5  \\\"드론사업 변곡점 도래, 국내 드론기업 초연결 초지능에 초점 맞춰야\\\"       IS      0   \n",
       "6            “책이 있는 한 책방도 계속”…‘서점책방창업학교’ 오픈       LC      0   \n",
       "7        주말만 봉쇄, 성별 외출제, 면역카드… 진화하는 코로나 대처법       GB      0   \n",
       "8            '요양급여 부정수급' 윤석열 장모 내달 2일 1심 선고       SO      0   \n",
       "9            GSK·J&J 에볼라 백신 개발 박차…상용화 가능성은?       LC      0   \n",
       "\n",
       "                                        bait_content  BERTScore  \n",
       "0  정의용 청와대 국가안보실장이 6일 최근 잇따른 북한의 미사일 발사가 9·19 남북군...   0.951438  \n",
       "1  한국을 노린 지능형지속위협(APT) 공격 징후가 포착됐다.\\n북한으로 추정되는 해커...   0.931320  \n",
       "2  대한항공이 도심항공교통(UAM, Urban Air Mobility) 시대의 안전 운...   0.932654  \n",
       "3  성남시는 오는 2025년 상반기 개관을 목표로 수정구 신흥동에 건립 추진 중인 시립...   0.953643  \n",
       "4  롯데하이마트는 해외 에너지 소외계층 아동들을 위해 친환경 태양광 랜턴 솔라미를 전달...   0.957993  \n",
       "5  “드론산업은 운용체계부터 하드웨어·소프트웨어(SW)까지 전 영역에서 혁신이 일어나는...   0.944907  \n",
       "6  요즘 떠오르는 ‘핫플레이스’의 공통점은 뭘까.\\n김소영·오상진 아나운서 부부가 운영...   0.929836  \n",
       "7  ‘남녀 외출 2부제’를 도입한 페루, 주말에만 도시 봉쇄하는 터키, 신분증 번호에 ...   0.949629  \n",
       "8  ‘요양급여 부정수급’ 혐의로 재판에 넘겨진 윤석열 전 검찰총장의 장모 최씨에 대한 ...   0.932338  \n",
       "9  GSK·J&J 등 다국적제약회사를 중심으로 에볼라 백신 개발에 박차를 가하고 있다....   0.946776  "
      ]
     },
     "execution_count": 9,
     "metadata": {},
     "output_type": "execute_result"
    }
   ],
   "source": [
    "df.iloc[:10]"
   ]
  },
  {
   "cell_type": "code",
   "execution_count": 4,
   "metadata": {},
   "outputs": [
    {
     "data": {
      "text/plain": [
       "131892"
      ]
     },
     "execution_count": 4,
     "metadata": {},
     "output_type": "execute_result"
    }
   ],
   "source": [
    "len(train)"
   ]
  },
  {
   "cell_type": "code",
   "execution_count": 7,
   "metadata": {},
   "outputs": [
    {
     "data": {
      "text/plain": [
       "13000"
      ]
     },
     "execution_count": 7,
     "metadata": {},
     "output_type": "execute_result"
    }
   ],
   "source": [
    "val = pd.read_csv('/workspace/code/bait_news_gen/data/Fake/tfidf_content_content_all/filtered/fake_title_3_filtered.csv')"
   ]
  },
  {
   "cell_type": "code",
   "execution_count": 7,
   "metadata": {},
   "outputs": [
    {
     "data": {
      "text/plain": [
       "'5만원권 120장 ATM서 인출한 외국인 체포…불법체류 사실 확인'"
      ]
     },
     "execution_count": 7,
     "metadata": {},
     "output_type": "execute_result"
    }
   ],
   "source": [
    "val[val['news_id']=='SO_M06_451754']['original_title'].values[0]"
   ]
  },
  {
   "cell_type": "code",
   "execution_count": 8,
   "metadata": {},
   "outputs": [],
   "source": [
    "val['bait_content']=pd.Series"
   ]
  },
  {
   "cell_type": "code",
   "execution_count": 9,
   "metadata": {},
   "outputs": [
    {
     "name": "stderr",
     "output_type": "stream",
     "text": [
      "/tmp/ipykernel_24229/2516195221.py:1: SettingWithCopyWarning: \n",
      "A value is trying to be set on a copy of a slice from a DataFrame\n",
      "\n",
      "See the caveats in the documentation: https://pandas.pydata.org/pandas-docs/stable/user_guide/indexing.html#returning-a-view-versus-a-copy\n",
      "  val['bait_content'][0] = '안녕'\n"
     ]
    }
   ],
   "source": [
    "val['bait_content'][0] = '안녕'"
   ]
  },
  {
   "cell_type": "code",
   "execution_count": 10,
   "metadata": {},
   "outputs": [
    {
     "data": {
      "text/html": [
       "<div>\n",
       "<style scoped>\n",
       "    .dataframe tbody tr th:only-of-type {\n",
       "        vertical-align: middle;\n",
       "    }\n",
       "\n",
       "    .dataframe tbody tr th {\n",
       "        vertical-align: top;\n",
       "    }\n",
       "\n",
       "    .dataframe thead th {\n",
       "        text-align: right;\n",
       "    }\n",
       "</style>\n",
       "<table border=\"1\" class=\"dataframe\">\n",
       "  <thead>\n",
       "    <tr style=\"text-align: right;\">\n",
       "      <th></th>\n",
       "      <th>news_id</th>\n",
       "      <th>original_title</th>\n",
       "      <th>content</th>\n",
       "      <th>sim_news_id</th>\n",
       "      <th>bait_title</th>\n",
       "      <th>category</th>\n",
       "      <th>label</th>\n",
       "      <th>bait_content</th>\n",
       "    </tr>\n",
       "  </thead>\n",
       "  <tbody>\n",
       "    <tr>\n",
       "      <th>0</th>\n",
       "      <td>SO_M06_436276</td>\n",
       "      <td>국세청 직원 6년간 258명 징계…5명 중 1명은 '직무 관련 범죄'</td>\n",
       "      <td>뇌물 수수와 성매매, 불법촬영 등 범죄로 최근 6년 간 징계를 받은 국세청 직원이 ...</td>\n",
       "      <td>NaN</td>\n",
       "      <td>NaN</td>\n",
       "      <td>SO</td>\n",
       "      <td>1</td>\n",
       "      <td>안녕</td>\n",
       "    </tr>\n",
       "    <tr>\n",
       "      <th>1</th>\n",
       "      <td>EC_M05_245837</td>\n",
       "      <td>KCC, 故 정상영 명예회장 유지로 '민사고'에 장학금</td>\n",
       "      <td>고(故) 정상영 KCC 명예회장의 뜻으로 KCC가 민족사관고등학교 역량우수 및 저소...</td>\n",
       "      <td>NaN</td>\n",
       "      <td>NaN</td>\n",
       "      <td>EC</td>\n",
       "      <td>1</td>\n",
       "      <td>&lt;property object at 0x7f496d6e7040&gt;</td>\n",
       "    </tr>\n",
       "    <tr>\n",
       "      <th>2</th>\n",
       "      <td>EC_M05_230145</td>\n",
       "      <td>NH투자증권, 금 선물 ETN 2종 신규상장</td>\n",
       "      <td>NH투자증권은 코멕스(COMEX, Commodity Exchange)에 상장돼 있는...</td>\n",
       "      <td>NaN</td>\n",
       "      <td>NaN</td>\n",
       "      <td>EC</td>\n",
       "      <td>1</td>\n",
       "      <td>&lt;property object at 0x7f496d6e7040&gt;</td>\n",
       "    </tr>\n",
       "    <tr>\n",
       "      <th>3</th>\n",
       "      <td>PO_M03_115608</td>\n",
       "      <td>\\\"로봇 밥 주든말든 패대기나 치지말라\\\" 이승환 비꼰 진중권</td>\n",
       "      <td>진중권 전 동양대 교수가 이재명 더불어민주당 대선후보의 '로봇학대 논란'을 두둔한 ...</td>\n",
       "      <td>NaN</td>\n",
       "      <td>NaN</td>\n",
       "      <td>PO</td>\n",
       "      <td>1</td>\n",
       "      <td>&lt;property object at 0x7f496d6e7040&gt;</td>\n",
       "    </tr>\n",
       "    <tr>\n",
       "      <th>4</th>\n",
       "      <td>SO_M06_451754</td>\n",
       "      <td>5만원권 120장 ATM서 인출한 외국인 체포…불법체류 사실 확인</td>\n",
       "      <td>타인 명의의 체크카드로 은행 현금입출금기(ATM)에서 현금 600만원을 인출한 30...</td>\n",
       "      <td>NaN</td>\n",
       "      <td>NaN</td>\n",
       "      <td>SO</td>\n",
       "      <td>1</td>\n",
       "      <td>&lt;property object at 0x7f496d6e7040&gt;</td>\n",
       "    </tr>\n",
       "  </tbody>\n",
       "</table>\n",
       "</div>"
      ],
      "text/plain": [
       "         news_id                          original_title  \\\n",
       "0  SO_M06_436276  국세청 직원 6년간 258명 징계…5명 중 1명은 '직무 관련 범죄'   \n",
       "1  EC_M05_245837          KCC, 故 정상영 명예회장 유지로 '민사고'에 장학금   \n",
       "2  EC_M05_230145                NH투자증권, 금 선물 ETN 2종 신규상장   \n",
       "3  PO_M03_115608      \\\"로봇 밥 주든말든 패대기나 치지말라\\\" 이승환 비꼰 진중권   \n",
       "4  SO_M06_451754    5만원권 120장 ATM서 인출한 외국인 체포…불법체류 사실 확인   \n",
       "\n",
       "                                             content  sim_news_id  bait_title  \\\n",
       "0  뇌물 수수와 성매매, 불법촬영 등 범죄로 최근 6년 간 징계를 받은 국세청 직원이 ...          NaN         NaN   \n",
       "1  고(故) 정상영 KCC 명예회장의 뜻으로 KCC가 민족사관고등학교 역량우수 및 저소...          NaN         NaN   \n",
       "2  NH투자증권은 코멕스(COMEX, Commodity Exchange)에 상장돼 있는...          NaN         NaN   \n",
       "3  진중권 전 동양대 교수가 이재명 더불어민주당 대선후보의 '로봇학대 논란'을 두둔한 ...          NaN         NaN   \n",
       "4  타인 명의의 체크카드로 은행 현금입출금기(ATM)에서 현금 600만원을 인출한 30...          NaN         NaN   \n",
       "\n",
       "  category  label                         bait_content  \n",
       "0       SO      1                                   안녕  \n",
       "1       EC      1  <property object at 0x7f496d6e7040>  \n",
       "2       EC      1  <property object at 0x7f496d6e7040>  \n",
       "3       PO      1  <property object at 0x7f496d6e7040>  \n",
       "4       SO      1  <property object at 0x7f496d6e7040>  "
      ]
     },
     "execution_count": 10,
     "metadata": {},
     "output_type": "execute_result"
    }
   ],
   "source": [
    "val.head()"
   ]
  },
  {
   "cell_type": "code",
   "execution_count": null,
   "metadata": {},
   "outputs": [],
   "source": []
  }
 ],
 "metadata": {
  "kernelspec": {
   "display_name": "base",
   "language": "python",
   "name": "python3"
  },
  "language_info": {
   "codemirror_mode": {
    "name": "ipython",
    "version": 3
   },
   "file_extension": ".py",
   "mimetype": "text/x-python",
   "name": "python",
   "nbconvert_exporter": "python",
   "pygments_lexer": "ipython3",
   "version": "3.8.13"
  },
  "orig_nbformat": 4
 },
 "nbformat": 4,
 "nbformat_minor": 2
}
