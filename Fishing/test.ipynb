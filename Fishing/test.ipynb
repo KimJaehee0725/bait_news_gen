{
 "cells": [
  {
   "cell_type": "code",
   "execution_count": 1,
   "metadata": {},
   "outputs": [],
   "source": [
    "import pandas as pd"
   ]
  },
  {
   "cell_type": "code",
   "execution_count": 2,
   "metadata": {},
   "outputs": [],
   "source": [
    "df = pd.read_csv('/workspace/code/bait_news_gen/results/tfidf_full_full_all/tfidf_full_full_all/exp_results.csv')"
   ]
  },
  {
   "cell_type": "code",
   "execution_count": 4,
   "metadata": {},
   "outputs": [
    {
     "data": {
      "text/html": [
       "<div>\n",
       "<style scoped>\n",
       "    .dataframe tbody tr th:only-of-type {\n",
       "        vertical-align: middle;\n",
       "    }\n",
       "\n",
       "    .dataframe tbody tr th {\n",
       "        vertical-align: top;\n",
       "    }\n",
       "\n",
       "    .dataframe thead th {\n",
       "        text-align: right;\n",
       "    }\n",
       "</style>\n",
       "<table border=\"1\" class=\"dataframe\">\n",
       "  <thead>\n",
       "    <tr style=\"text-align: right;\">\n",
       "      <th></th>\n",
       "      <th>news_id</th>\n",
       "      <th>targets</th>\n",
       "      <th>preds</th>\n",
       "      <th>outputs</th>\n",
       "      <th>label</th>\n",
       "    </tr>\n",
       "  </thead>\n",
       "  <tbody>\n",
       "    <tr>\n",
       "      <th>0</th>\n",
       "      <td>EC_M04_012745</td>\n",
       "      <td>1</td>\n",
       "      <td>0</td>\n",
       "      <td>[0.5071146488189697, 0.49288541078567505]</td>\n",
       "      <td>1</td>\n",
       "    </tr>\n",
       "    <tr>\n",
       "      <th>1</th>\n",
       "      <td>GB_M11_051704</td>\n",
       "      <td>1</td>\n",
       "      <td>0</td>\n",
       "      <td>[0.5072805285453796, 0.492719441652298]</td>\n",
       "      <td>1</td>\n",
       "    </tr>\n",
       "    <tr>\n",
       "      <th>2</th>\n",
       "      <td>IS_M10_350740</td>\n",
       "      <td>1</td>\n",
       "      <td>0</td>\n",
       "      <td>[0.506289541721344, 0.4937104880809784]</td>\n",
       "      <td>1</td>\n",
       "    </tr>\n",
       "    <tr>\n",
       "      <th>3</th>\n",
       "      <td>LC_M09_357526</td>\n",
       "      <td>1</td>\n",
       "      <td>0</td>\n",
       "      <td>[0.5070480704307556, 0.4929519295692444]</td>\n",
       "      <td>1</td>\n",
       "    </tr>\n",
       "    <tr>\n",
       "      <th>4</th>\n",
       "      <td>GB_M11_293365</td>\n",
       "      <td>1</td>\n",
       "      <td>0</td>\n",
       "      <td>[0.5059918761253357, 0.4940080940723419]</td>\n",
       "      <td>1</td>\n",
       "    </tr>\n",
       "  </tbody>\n",
       "</table>\n",
       "</div>"
      ],
      "text/plain": [
       "         news_id  targets  preds                                    outputs  \\\n",
       "0  EC_M04_012745        1      0  [0.5071146488189697, 0.49288541078567505]   \n",
       "1  GB_M11_051704        1      0    [0.5072805285453796, 0.492719441652298]   \n",
       "2  IS_M10_350740        1      0    [0.506289541721344, 0.4937104880809784]   \n",
       "3  LC_M09_357526        1      0   [0.5070480704307556, 0.4929519295692444]   \n",
       "4  GB_M11_293365        1      0   [0.5059918761253357, 0.4940080940723419]   \n",
       "\n",
       "   label  \n",
       "0      1  \n",
       "1      1  \n",
       "2      1  \n",
       "3      1  \n",
       "4      1  "
      ]
     },
     "execution_count": 4,
     "metadata": {},
     "output_type": "execute_result"
    }
   ],
   "source": [
    "df.head()"
   ]
  },
  {
   "cell_type": "code",
   "execution_count": null,
   "metadata": {},
   "outputs": [],
   "source": []
  }
 ],
 "metadata": {
  "kernelspec": {
   "display_name": "base",
   "language": "python",
   "name": "python3"
  },
  "language_info": {
   "codemirror_mode": {
    "name": "ipython",
    "version": 3
   },
   "file_extension": ".py",
   "mimetype": "text/x-python",
   "name": "python",
   "nbconvert_exporter": "python",
   "pygments_lexer": "ipython3",
   "version": "3.8.13"
  },
  "orig_nbformat": 4
 },
 "nbformat": 4,
 "nbformat_minor": 2
}
