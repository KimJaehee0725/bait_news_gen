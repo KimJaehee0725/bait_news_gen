{
 "cells": [
  {
   "cell_type": "code",
   "execution_count": 6,
   "metadata": {},
   "outputs": [],
   "source": [
    "import pandas as pd\n",
    "import numpy as np\n",
    "import json"
   ]
  },
  {
   "cell_type": "code",
   "execution_count": 17,
   "metadata": {},
   "outputs": [],
   "source": [
    "ABCD = []\n",
    "check_point = ['News_Direct', 'News_Auto']\n",
    "\n",
    "for cate in check_point:\n",
    "    for cate2 in check_point:\n",
    "        with open(f'/root/code/bait_news_gen/saved_model/{cate}/test_{cate2}.json', 'r') as f:\n",
    "            json_data = json.load(f)\n",
    "\n",
    "            ABCD.append(json_data['acc'])"
   ]
  },
  {
   "cell_type": "code",
   "execution_count": 18,
   "metadata": {},
   "outputs": [
    {
     "data": {
      "text/plain": [
       "[0.8058838754205849, 0.9555836864989817]"
      ]
     },
     "execution_count": 18,
     "metadata": {},
     "output_type": "execute_result"
    }
   ],
   "source": [
    "ABCD"
   ]
  },
  {
   "cell_type": "code",
   "execution_count": 26,
   "metadata": {},
   "outputs": [
    {
     "name": "stdout",
     "output_type": "stream",
     "text": [
      "A :  0.8058838754205849\n",
      "B :  0.9555836864989817\n"
     ]
    }
   ],
   "source": [
    "print('A : ', ABCD[0])\n",
    "print('B : ', ABCD[1])\n",
    "print('C : ', ABCD[2])\n",
    "print('D : ', ABCD[3])"
   ]
  },
  {
   "cell_type": "code",
   "execution_count": 28,
   "metadata": {},
   "outputs": [
    {
     "name": "stdout",
     "output_type": "stream",
     "text": [
      "False Negative -> D/A :  1.1857585387228025\n",
      "General        -> B/C :  0.8433420189215879\n"
     ]
    }
   ],
   "source": [
    "print('False Negative -> D/A : ', ABCD[3]/ABCD[0]) \n",
    "print('General        -> B/C : ', ABCD[1]/ABCD[2]) "
   ]
  },
  {
   "cell_type": "code",
   "execution_count": null,
   "metadata": {},
   "outputs": [],
   "source": []
  }
 ],
 "metadata": {
  "kernelspec": {
   "display_name": "base",
   "language": "python",
   "name": "python3"
  },
  "language_info": {
   "codemirror_mode": {
    "name": "ipython",
    "version": 3
   },
   "file_extension": ".py",
   "mimetype": "text/x-python",
   "name": "python",
   "nbconvert_exporter": "python",
   "pygments_lexer": "ipython3",
   "version": "3.7.7"
  },
  "orig_nbformat": 4
 },
 "nbformat": 4,
 "nbformat_minor": 2
}
