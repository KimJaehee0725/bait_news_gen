{
 "cells": [
  {
   "cell_type": "code",
   "execution_count": 5,
   "metadata": {},
   "outputs": [],
   "source": [
    "import pandas as pd\n",
    "import matplotlib.pyplot as plt"
   ]
  },
  {
   "cell_type": "code",
   "execution_count": 52,
   "metadata": {},
   "outputs": [
    {
     "data": {
      "text/plain": [
       "131999"
      ]
     },
     "execution_count": 52,
     "metadata": {},
     "output_type": "execute_result"
    }
   ],
   "source": [
    "df = pd.read_csv('/workspace/code/bait_news_gen/data/Fake/tfidf_full_full_all/filtered/fake_top3_1.0.csv')\n",
    "len(df)"
   ]
  },
  {
   "cell_type": "code",
   "execution_count": 53,
   "metadata": {},
   "outputs": [
    {
     "data": {
      "text/plain": [
       "count    131999.000000\n",
       "mean          0.928526\n",
       "std           0.015578\n",
       "min           0.816958\n",
       "25%           0.919810\n",
       "50%           0.929679\n",
       "75%           0.938405\n",
       "max           0.999384\n",
       "Name: BERTScore, dtype: float64"
      ]
     },
     "execution_count": 53,
     "metadata": {},
     "output_type": "execute_result"
    }
   ],
   "source": [
    "df['BERTScore'].describe()"
   ]
  },
  {
   "cell_type": "code",
   "execution_count": 54,
   "metadata": {},
   "outputs": [
    {
     "data": {
      "image/png": "[encoded data removed]",
      "text/plain": [
       "<Figure size 432x288 with 1 Axes>"
      ]
     },
     "metadata": {
      "needs_background": "light"
     },
     "output_type": "display_data"
    }
   ],
   "source": [
    "# 구간별 count 계산\n",
    "bins = [0.9, 0.91, 0.92, 0.93, 0.94, 0.95, 0.96, 0.97, 0.98, 0.99, 1.0]\n",
    "labels = ['<[0.9]','[0.9, 0.91]', '[0.91, 0.92]', '[0.93, 0.94]', '[0.94, 0.95]','[0.95, 0.96]', '[0.96, 0.97]', '[0.97, 0.98]', '[0.98, 0.99]', '[0.99, 1]']\n",
    "df['bin'] = pd.cut(df['BERTScore'], bins=bins, labels=labels, right=False, include_lowest=True)\n",
    "counts = df['bin'].value_counts().sort_index()\n",
    "\n",
    "# barplot 생성\n",
    "counts.plot(kind='bar')\n",
    "plt.xlabel('BertScore')\n",
    "plt.ylabel('Count')\n",
    "plt.title('0.9 ~ 1.0 Count')\n",
    "plt.show()"
   ]
  },
  {
   "cell_type": "code",
   "execution_count": 55,
   "metadata": {},
   "outputs": [
    {
     "data": {
      "text/plain": [
       "<[0.9]           8454\n",
       "[0.9, 0.91]     19164\n",
       "[0.91, 0.92]    33781\n",
       "[0.93, 0.94]    36798\n",
       "[0.94, 0.95]    20221\n",
       "[0.95, 0.96]     5408\n",
       "[0.96, 0.97]     1505\n",
       "[0.97, 0.98]      530\n",
       "[0.98, 0.99]      199\n",
       "[0.99, 1]          60\n",
       "Name: bin, dtype: int64"
      ]
     },
     "execution_count": 55,
     "metadata": {},
     "output_type": "execute_result"
    }
   ],
   "source": [
    "counts"
   ]
  },
  {
   "cell_type": "code",
   "execution_count": 57,
   "metadata": {},
   "outputs": [
    {
     "data": {
      "text/plain": [
       "array(['PO', 'IS', 'EC', 'SO', 'LC', 'GB', 'ET'], dtype=object)"
      ]
     },
     "execution_count": 57,
     "metadata": {},
     "output_type": "execute_result"
    }
   ],
   "source": [
    "df['category'].unique()"
   ]
  },
  {
   "cell_type": "code",
   "execution_count": 61,
   "metadata": {},
   "outputs": [
    {
     "data": {
      "text/plain": [
       "ET    148\n",
       "LC     25\n",
       "EC     15\n",
       "IS      6\n",
       "SO      3\n",
       "GB      2\n",
       "Name: category, dtype: int64"
      ]
     },
     "execution_count": 61,
     "metadata": {},
     "output_type": "execute_result"
    }
   ],
   "source": [
    "df[df['bin']=='[0.98, 0.99]'].value_counts()"
   ]
  },
  {
   "cell_type": "code",
   "execution_count": 64,
   "metadata": {},
   "outputs": [
    {
     "data": {
      "text/html": [
       "<div>\n",
       "<style scoped>\n",
       "    .dataframe tbody tr th:only-of-type {\n",
       "        vertical-align: middle;\n",
       "    }\n",
       "\n",
       "    .dataframe tbody tr th {\n",
       "        vertical-align: top;\n",
       "    }\n",
       "\n",
       "    .dataframe thead th {\n",
       "        text-align: right;\n",
       "    }\n",
       "</style>\n",
       "<table border=\"1\" class=\"dataframe\">\n",
       "  <thead>\n",
       "    <tr style=\"text-align: right;\">\n",
       "      <th></th>\n",
       "      <th>news_id</th>\n",
       "      <th>original_title</th>\n",
       "      <th>content</th>\n",
       "      <th>sim_news_id</th>\n",
       "      <th>bait_title</th>\n",
       "      <th>category</th>\n",
       "      <th>label</th>\n",
       "      <th>bait_content</th>\n",
       "      <th>BERTScore</th>\n",
       "      <th>bin</th>\n",
       "    </tr>\n",
       "  </thead>\n",
       "  <tbody>\n",
       "    <tr>\n",
       "      <th>1806</th>\n",
       "      <td>ET_M03_037031</td>\n",
       "      <td>SMAP 해체설… \\\"기무라 타쿠야만 남고 초난강 외 3명 소속사 떠나\\\"</td>\n",
       "      <td>SMAP 해체설 기무라 타쿠야 초난강 일본의 인기 그룹 ‘스맙(SMAP)’의 해체설...</td>\n",
       "      <td>ET_M03_037029</td>\n",
       "      <td>SMAP 해체설…\\\"기무라 타쿠야만 남고 초난강 외 3명은 소속사 떠나\\\"</td>\n",
       "      <td>ET</td>\n",
       "      <td>0</td>\n",
       "      <td>SMAP 해체설 기무라 타쿠야 초난강 일본의 인기 그룹 ‘스맙(SMAP)’의 해체설...</td>\n",
       "      <td>0.987631</td>\n",
       "      <td>[0.98, 0.99]</td>\n",
       "    </tr>\n",
       "    <tr>\n",
       "      <th>3372</th>\n",
       "      <td>ET_M03_281300</td>\n",
       "      <td>'부탁해요 엄마' 민아, 최태준의 결혼 여부 알아챘다 … 운명의 장난?</td>\n",
       "      <td>'부탁해요 엄마' 민아 '부탁해요 엄마'에서 민아가 최태준이 결혼한 사실을 알았다....</td>\n",
       "      <td>ET_M03_281317</td>\n",
       "      <td>'부탁해요 엄마' 민아, 최태준의 결혼 사실 알아버려 … 운명의 장난</td>\n",
       "      <td>ET</td>\n",
       "      <td>0</td>\n",
       "      <td>'부탁해요 엄마' 민아 '부탁해요 엄마'에서 민아가 최태준이 결혼한 사실을 알았다....</td>\n",
       "      <td>0.981007</td>\n",
       "      <td>[0.98, 0.99]</td>\n",
       "    </tr>\n",
       "    <tr>\n",
       "      <th>4515</th>\n",
       "      <td>ET_M03_279210</td>\n",
       "      <td>\\\"라디오스타\\\" 박소담, '사도' 촬영 중 실제로 맞아 멍들어</td>\n",
       "      <td>박소담 라디오스타 배우 박소담이 MBC '라디오스타'에 출연하여 화제가 되고 있다....</td>\n",
       "      <td>ET_M03_279180</td>\n",
       "      <td>\\\"라디오스타\\\" 박소담, '사도' 촬영 중에 실제로 맞아 멍든 경험</td>\n",
       "      <td>ET</td>\n",
       "      <td>0</td>\n",
       "      <td>박소담 라디오스타 배우 박소담이 MBC '라디오스타'에 출연하여 화제가 되고 있다....</td>\n",
       "      <td>0.983672</td>\n",
       "      <td>[0.98, 0.99]</td>\n",
       "    </tr>\n",
       "    <tr>\n",
       "      <th>5240</th>\n",
       "      <td>ET_M03_280208</td>\n",
       "      <td>'마리와 나' 강호동 서인국, 도도한 고양이에 \\\"우울증 걸릴것 같다\\\"</td>\n",
       "      <td>사진 JTBC 강호동 서인국, '마리와 나' 도도한 고양이에 \\\"우울증 걸릴것 같다...</td>\n",
       "      <td>ET_M03_280187</td>\n",
       "      <td>강호동 서인국, '마리와 나' 도도한 고양이에 \\\"우울증 걸릴것 같다\\\"</td>\n",
       "      <td>ET</td>\n",
       "      <td>0</td>\n",
       "      <td>사진 JTBC 강호동 서인국, '마리와 나' 도도한 고양이에 \\\"우울증 걸릴것 같다...</td>\n",
       "      <td>0.987734</td>\n",
       "      <td>[0.98, 0.99]</td>\n",
       "    </tr>\n",
       "    <tr>\n",
       "      <th>5862</th>\n",
       "      <td>ET_M03_279457</td>\n",
       "      <td>김광진 의원실 \\\"'응답하라 1988' 류준열 결혼식 올리는 중\\\"…스포 공개 '헉'</td>\n",
       "      <td>더불어민주당 소속 김광진 의원실이 ‘응답하라 1988’의 핵심 ‘남편 찾기’와 관련...</td>\n",
       "      <td>ET_M03_279540</td>\n",
       "      <td>김광진 의원실 \\\"'응답하라 1988' 류준열 결혼식 올리는 중\\\"…스포 논란</td>\n",
       "      <td>ET</td>\n",
       "      <td>0</td>\n",
       "      <td>더불어민주당 소속 김광진 의원실이 ‘응답하라 1988’의 핵심 ‘남편 찾기’와 관련...</td>\n",
       "      <td>0.988083</td>\n",
       "      <td>[0.98, 0.99]</td>\n",
       "    </tr>\n",
       "  </tbody>\n",
       "</table>\n",
       "</div>"
      ],
      "text/plain": [
       "            news_id                                   original_title  \\\n",
       "1806  ET_M03_037031        SMAP 해체설… \\\"기무라 타쿠야만 남고 초난강 외 3명 소속사 떠나\\\"   \n",
       "3372  ET_M03_281300          '부탁해요 엄마' 민아, 최태준의 결혼 여부 알아챘다 … 운명의 장난?   \n",
       "4515  ET_M03_279210              \\\"라디오스타\\\" 박소담, '사도' 촬영 중 실제로 맞아 멍들어   \n",
       "5240  ET_M03_280208         '마리와 나' 강호동 서인국, 도도한 고양이에 \\\"우울증 걸릴것 같다\\\"   \n",
       "5862  ET_M03_279457  김광진 의원실 \\\"'응답하라 1988' 류준열 결혼식 올리는 중\\\"…스포 공개 '헉'   \n",
       "\n",
       "                                                content    sim_news_id  \\\n",
       "1806  SMAP 해체설 기무라 타쿠야 초난강 일본의 인기 그룹 ‘스맙(SMAP)’의 해체설...  ET_M03_037029   \n",
       "3372  '부탁해요 엄마' 민아 '부탁해요 엄마'에서 민아가 최태준이 결혼한 사실을 알았다....  ET_M03_281317   \n",
       "4515  박소담 라디오스타 배우 박소담이 MBC '라디오스타'에 출연하여 화제가 되고 있다....  ET_M03_279180   \n",
       "5240  사진 JTBC 강호동 서인국, '마리와 나' 도도한 고양이에 \\\"우울증 걸릴것 같다...  ET_M03_280187   \n",
       "5862  더불어민주당 소속 김광진 의원실이 ‘응답하라 1988’의 핵심 ‘남편 찾기’와 관련...  ET_M03_279540   \n",
       "\n",
       "                                       bait_title category  label  \\\n",
       "1806    SMAP 해체설…\\\"기무라 타쿠야만 남고 초난강 외 3명은 소속사 떠나\\\"       ET      0   \n",
       "3372       '부탁해요 엄마' 민아, 최태준의 결혼 사실 알아버려 … 운명의 장난       ET      0   \n",
       "4515       \\\"라디오스타\\\" 박소담, '사도' 촬영 중에 실제로 맞아 멍든 경험       ET      0   \n",
       "5240     강호동 서인국, '마리와 나' 도도한 고양이에 \\\"우울증 걸릴것 같다\\\"       ET      0   \n",
       "5862  김광진 의원실 \\\"'응답하라 1988' 류준열 결혼식 올리는 중\\\"…스포 논란       ET      0   \n",
       "\n",
       "                                           bait_content  BERTScore  \\\n",
       "1806  SMAP 해체설 기무라 타쿠야 초난강 일본의 인기 그룹 ‘스맙(SMAP)’의 해체설...   0.987631   \n",
       "3372  '부탁해요 엄마' 민아 '부탁해요 엄마'에서 민아가 최태준이 결혼한 사실을 알았다....   0.981007   \n",
       "4515  박소담 라디오스타 배우 박소담이 MBC '라디오스타'에 출연하여 화제가 되고 있다....   0.983672   \n",
       "5240  사진 JTBC 강호동 서인국, '마리와 나' 도도한 고양이에 \\\"우울증 걸릴것 같다...   0.987734   \n",
       "5862  더불어민주당 소속 김광진 의원실이 ‘응답하라 1988’의 핵심 ‘남편 찾기’와 관련...   0.988083   \n",
       "\n",
       "               bin  \n",
       "1806  [0.98, 0.99]  \n",
       "3372  [0.98, 0.99]  \n",
       "4515  [0.98, 0.99]  \n",
       "5240  [0.98, 0.99]  \n",
       "5862  [0.98, 0.99]  "
      ]
     },
     "execution_count": 64,
     "metadata": {},
     "output_type": "execute_result"
    }
   ],
   "source": [
    "index = (df['category'] =='ET') & (df['bin']=='[0.98, 0.99]')\n",
    "df[index].head()"
   ]
  },
  {
   "cell_type": "code",
   "execution_count": 66,
   "metadata": {},
   "outputs": [
    {
     "data": {
      "text/html": [
       "<div>\n",
       "<style scoped>\n",
       "    .dataframe tbody tr th:only-of-type {\n",
       "        vertical-align: middle;\n",
       "    }\n",
       "\n",
       "    .dataframe tbody tr th {\n",
       "        vertical-align: top;\n",
       "    }\n",
       "\n",
       "    .dataframe thead th {\n",
       "        text-align: right;\n",
       "    }\n",
       "</style>\n",
       "<table border=\"1\" class=\"dataframe\">\n",
       "  <thead>\n",
       "    <tr style=\"text-align: right;\">\n",
       "      <th></th>\n",
       "      <th>original_title</th>\n",
       "      <th>bait_title</th>\n",
       "      <th>BERTScore</th>\n",
       "    </tr>\n",
       "  </thead>\n",
       "  <tbody>\n",
       "    <tr>\n",
       "      <th>1806</th>\n",
       "      <td>SMAP 해체설… \\\"기무라 타쿠야만 남고 초난강 외 3명 소속사 떠나\\\"</td>\n",
       "      <td>SMAP 해체설…\\\"기무라 타쿠야만 남고 초난강 외 3명은 소속사 떠나\\\"</td>\n",
       "      <td>0.987631</td>\n",
       "    </tr>\n",
       "    <tr>\n",
       "      <th>3372</th>\n",
       "      <td>'부탁해요 엄마' 민아, 최태준의 결혼 여부 알아챘다 … 운명의 장난?</td>\n",
       "      <td>'부탁해요 엄마' 민아, 최태준의 결혼 사실 알아버려 … 운명의 장난</td>\n",
       "      <td>0.981007</td>\n",
       "    </tr>\n",
       "    <tr>\n",
       "      <th>4515</th>\n",
       "      <td>\\\"라디오스타\\\" 박소담, '사도' 촬영 중 실제로 맞아 멍들어</td>\n",
       "      <td>\\\"라디오스타\\\" 박소담, '사도' 촬영 중에 실제로 맞아 멍든 경험</td>\n",
       "      <td>0.983672</td>\n",
       "    </tr>\n",
       "    <tr>\n",
       "      <th>5240</th>\n",
       "      <td>'마리와 나' 강호동 서인국, 도도한 고양이에 \\\"우울증 걸릴것 같다\\\"</td>\n",
       "      <td>강호동 서인국, '마리와 나' 도도한 고양이에 \\\"우울증 걸릴것 같다\\\"</td>\n",
       "      <td>0.987734</td>\n",
       "    </tr>\n",
       "    <tr>\n",
       "      <th>5862</th>\n",
       "      <td>김광진 의원실 \\\"'응답하라 1988' 류준열 결혼식 올리는 중\\\"…스포 공개 '헉'</td>\n",
       "      <td>김광진 의원실 \\\"'응답하라 1988' 류준열 결혼식 올리는 중\\\"…스포 논란</td>\n",
       "      <td>0.988083</td>\n",
       "    </tr>\n",
       "  </tbody>\n",
       "</table>\n",
       "</div>"
      ],
      "text/plain": [
       "                                       original_title  \\\n",
       "1806        SMAP 해체설… \\\"기무라 타쿠야만 남고 초난강 외 3명 소속사 떠나\\\"   \n",
       "3372          '부탁해요 엄마' 민아, 최태준의 결혼 여부 알아챘다 … 운명의 장난?   \n",
       "4515              \\\"라디오스타\\\" 박소담, '사도' 촬영 중 실제로 맞아 멍들어   \n",
       "5240         '마리와 나' 강호동 서인국, 도도한 고양이에 \\\"우울증 걸릴것 같다\\\"   \n",
       "5862  김광진 의원실 \\\"'응답하라 1988' 류준열 결혼식 올리는 중\\\"…스포 공개 '헉'   \n",
       "\n",
       "                                       bait_title  BERTScore  \n",
       "1806    SMAP 해체설…\\\"기무라 타쿠야만 남고 초난강 외 3명은 소속사 떠나\\\"   0.987631  \n",
       "3372       '부탁해요 엄마' 민아, 최태준의 결혼 사실 알아버려 … 운명의 장난   0.981007  \n",
       "4515       \\\"라디오스타\\\" 박소담, '사도' 촬영 중에 실제로 맞아 멍든 경험   0.983672  \n",
       "5240     강호동 서인국, '마리와 나' 도도한 고양이에 \\\"우울증 걸릴것 같다\\\"   0.987734  \n",
       "5862  김광진 의원실 \\\"'응답하라 1988' 류준열 결혼식 올리는 중\\\"…스포 논란   0.988083  "
      ]
     },
     "execution_count": 66,
     "metadata": {},
     "output_type": "execute_result"
    }
   ],
   "source": [
    "df[df['bin']=='[0.98, 0.99]'][['original_title','bait_title','BERTScore']].head() #[['original_title','bait_title','BERTScore']]"
   ]
  },
  {
   "cell_type": "code",
   "execution_count": null,
   "metadata": {},
   "outputs": [],
   "source": []
  }
 ],
 "metadata": {
  "kernelspec": {
   "display_name": "base",
   "language": "python",
   "name": "python3"
  },
  "language_info": {
   "codemirror_mode": {
    "name": "ipython",
    "version": 3
   },
   "file_extension": ".py",
   "mimetype": "text/x-python",
   "name": "python",
   "nbconvert_exporter": "python",
   "pygments_lexer": "ipython3",
   "version": "3.8.13"
  },
  "orig_nbformat": 4
 },
 "nbformat": 4,
 "nbformat_minor": 2
}
