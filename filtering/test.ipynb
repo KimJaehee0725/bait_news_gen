{
 "cells": [
  {
   "cell_type": "code",
   "execution_count": 1,
   "metadata": {},
   "outputs": [],
   "source": [
    "import pandas as pd\n",
    "import matplotlib.pyplot as plt"
   ]
  },
  {
   "cell_type": "code",
   "execution_count": 10,
   "metadata": {},
   "outputs": [],
   "source": [
    "data_path = '/workspace/code/bait_news_gen/data/Fake/content_rotation_backward/filtered/fake_top1_0_100.csv'\n",
    "df = pd.read_csv(data_path)"
   ]
  },
  {
   "cell_type": "code",
   "execution_count": 11,
   "metadata": {},
   "outputs": [
    {
     "data": {
      "text/html": [
       "<div>\n",
       "<style scoped>\n",
       "    .dataframe tbody tr th:only-of-type {\n",
       "        vertical-align: middle;\n",
       "    }\n",
       "\n",
       "    .dataframe tbody tr th {\n",
       "        vertical-align: top;\n",
       "    }\n",
       "\n",
       "    .dataframe thead th {\n",
       "        text-align: right;\n",
       "    }\n",
       "</style>\n",
       "<table border=\"1\" class=\"dataframe\">\n",
       "  <thead>\n",
       "    <tr style=\"text-align: right;\">\n",
       "      <th></th>\n",
       "      <th>news_id</th>\n",
       "      <th>original_title</th>\n",
       "      <th>original_content</th>\n",
       "      <th>sim_news_id</th>\n",
       "      <th>fake_title</th>\n",
       "      <th>category</th>\n",
       "      <th>label</th>\n",
       "      <th>sim_news_content</th>\n",
       "      <th>sim_news_title</th>\n",
       "      <th>filter_bertscore</th>\n",
       "    </tr>\n",
       "  </thead>\n",
       "  <tbody>\n",
       "    <tr>\n",
       "      <th>0</th>\n",
       "      <td>PO_M03_417681</td>\n",
       "      <td>정경두 “SLBM 도발은 남북군사합의에 없다”</td>\n",
       "      <td>정경두 국방부 장관은 2일 국회 국방위원회 국정감사에서 북한의 이날 미사일 발사가 ...</td>\n",
       "      <td>PO_M03_115891</td>\n",
       "      <td>정경두 \\\"北 미사일, 9·19 군사합의 위반 아냐\\\"</td>\n",
       "      <td>PO</td>\n",
       "      <td>0</td>\n",
       "      <td>북한이 순항미사일을 발사한 지 3일 만인 15일 단거리 탄도미사일 2발을 동해상으로...</td>\n",
       "      <td>한국 첫 SLBM 쏜날, 북 탄도미사일 도발</td>\n",
       "      <td>0.946977</td>\n",
       "    </tr>\n",
       "  </tbody>\n",
       "</table>\n",
       "</div>"
      ],
      "text/plain": [
       "         news_id             original_title  \\\n",
       "0  PO_M03_417681  정경두 “SLBM 도발은 남북군사합의에 없다”   \n",
       "\n",
       "                                    original_content    sim_news_id  \\\n",
       "0  정경두 국방부 장관은 2일 국회 국방위원회 국정감사에서 북한의 이날 미사일 발사가 ...  PO_M03_115891   \n",
       "\n",
       "                       fake_title category  label  \\\n",
       "0  정경두 \\\"北 미사일, 9·19 군사합의 위반 아냐\\\"       PO      0   \n",
       "\n",
       "                                    sim_news_content  \\\n",
       "0  북한이 순항미사일을 발사한 지 3일 만인 15일 단거리 탄도미사일 2발을 동해상으로...   \n",
       "\n",
       "             sim_news_title  filter_bertscore  \n",
       "0  한국 첫 SLBM 쏜날, 북 탄도미사일 도발          0.946977  "
      ]
     },
     "execution_count": 11,
     "metadata": {},
     "output_type": "execute_result"
    }
   ],
   "source": [
    "df.head(1)"
   ]
  },
  {
   "cell_type": "code",
   "execution_count": 12,
   "metadata": {},
   "outputs": [
    {
     "data": {
      "text/html": [
       "<div>\n",
       "<style scoped>\n",
       "    .dataframe tbody tr th:only-of-type {\n",
       "        vertical-align: middle;\n",
       "    }\n",
       "\n",
       "    .dataframe tbody tr th {\n",
       "        vertical-align: top;\n",
       "    }\n",
       "\n",
       "    .dataframe thead th {\n",
       "        text-align: right;\n",
       "    }\n",
       "</style>\n",
       "<table border=\"1\" class=\"dataframe\">\n",
       "  <thead>\n",
       "    <tr style=\"text-align: right;\">\n",
       "      <th></th>\n",
       "      <th>original_title</th>\n",
       "      <th>fake_title</th>\n",
       "    </tr>\n",
       "  </thead>\n",
       "  <tbody>\n",
       "    <tr>\n",
       "      <th>1395</th>\n",
       "      <td>연합뉴스 사옥 임시 이전</td>\n",
       "      <td>연합뉴스TV 개국 첫날 4시간 방송...노조 \\\"큰 그림 잘못 짠 경영진 책임해야\\\"</td>\n",
       "    </tr>\n",
       "    <tr>\n",
       "      <th>1402</th>\n",
       "      <td>서대구역·외곽순환로 개통…확 바뀌는 대구 교통망</td>\n",
       "      <td>서·남부권 고속철도 시대 열었다...서·남부권 고속철도 시대 열었다</td>\n",
       "    </tr>\n",
       "    <tr>\n",
       "      <th>3385</th>\n",
       "      <td>美당선인 축하는 트위터로…각국 정상 ‘트윗 축하’ 이유는</td>\n",
       "      <td>文··········· \\\"바이든, 동맹</td>\n",
       "    </tr>\n",
       "    <tr>\n",
       "      <th>4585</th>\n",
       "      <td>송도 난치병 연구소 개원</td>\n",
       "      <td>\\\"암·당뇨 치료 허브로\\\"...국제 규모 암·당뇨연구소 착공</td>\n",
       "    </tr>\n",
       "    <tr>\n",
       "      <th>5456</th>\n",
       "      <td>진짜현실 가린 가짜현실</td>\n",
       "      <td>박근혜 대통령 \\\"한류에 VR 접목...문화산업 부가가치 커질 것\\\"</td>\n",
       "    </tr>\n",
       "  </tbody>\n",
       "</table>\n",
       "</div>"
      ],
      "text/plain": [
       "                       original_title  \\\n",
       "1395                    연합뉴스 사옥 임시 이전   \n",
       "1402       서대구역·외곽순환로 개통…확 바뀌는 대구 교통망   \n",
       "3385  美당선인 축하는 트위터로…각국 정상 ‘트윗 축하’ 이유는   \n",
       "4585                    송도 난치병 연구소 개원   \n",
       "5456                     진짜현실 가린 가짜현실   \n",
       "\n",
       "                                           fake_title  \n",
       "1395  연합뉴스TV 개국 첫날 4시간 방송...노조 \\\"큰 그림 잘못 짠 경영진 책임해야\\\"  \n",
       "1402            서·남부권 고속철도 시대 열었다...서·남부권 고속철도 시대 열었다  \n",
       "3385                           文··········· \\\"바이든, 동맹  \n",
       "4585               \\\"암·당뇨 치료 허브로\\\"...국제 규모 암·당뇨연구소 착공  \n",
       "5456           박근혜 대통령 \\\"한류에 VR 접목...문화산업 부가가치 커질 것\\\"  "
      ]
     },
     "execution_count": 12,
     "metadata": {},
     "output_type": "execute_result"
    }
   ],
   "source": [
    "import numpy as np\n",
    "df[np.round(df['filter_bertscore'], 2) == 0.87][['original_title','fake_title']].iloc[:5]"
   ]
  },
  {
   "cell_type": "code",
   "execution_count": 13,
   "metadata": {},
   "outputs": [
    {
     "data": {
      "text/html": [
       "<div>\n",
       "<style scoped>\n",
       "    .dataframe tbody tr th:only-of-type {\n",
       "        vertical-align: middle;\n",
       "    }\n",
       "\n",
       "    .dataframe tbody tr th {\n",
       "        vertical-align: top;\n",
       "    }\n",
       "\n",
       "    .dataframe thead th {\n",
       "        text-align: right;\n",
       "    }\n",
       "</style>\n",
       "<table border=\"1\" class=\"dataframe\">\n",
       "  <thead>\n",
       "    <tr style=\"text-align: right;\">\n",
       "      <th></th>\n",
       "      <th>original_title</th>\n",
       "      <th>fake_title</th>\n",
       "    </tr>\n",
       "  </thead>\n",
       "  <tbody>\n",
       "    <tr>\n",
       "      <th>60</th>\n",
       "      <td>문경시 소상공인등에 지방세 감면</td>\n",
       "      <td>칠곡군, 코로나19 피해극복·경제활성화 위해 지방세 11억여 원 감면</td>\n",
       "    </tr>\n",
       "    <tr>\n",
       "      <th>71</th>\n",
       "      <td>美 실리콘밸리 기업 천안에 둥지</td>\n",
       "      <td>한화건설, '포레나 천안신부' 온라인 견본주택 오픈</td>\n",
       "    </tr>\n",
       "    <tr>\n",
       "      <th>79</th>\n",
       "      <td>다나와 창업주 성장현 회장 퇴임…안징현 대표 체제로</td>\n",
       "      <td>[2018 하반기 인기상품]전자신문 인기상품 '다나와'</td>\n",
       "    </tr>\n",
       "    <tr>\n",
       "      <th>127</th>\n",
       "      <td>“학교폭력 고발극, 학생은 찾지 마시라”</td>\n",
       "      <td>“누가 우리 아이 괴물로 만든가”</td>\n",
       "    </tr>\n",
       "    <tr>\n",
       "      <th>129</th>\n",
       "      <td>북하니가 소개하는 책이 있는 곳</td>\n",
       "      <td>‘상상력의 대가’ 데이비드 위즈너</td>\n",
       "    </tr>\n",
       "  </tbody>\n",
       "</table>\n",
       "</div>"
      ],
      "text/plain": [
       "                   original_title                              fake_title\n",
       "60              문경시 소상공인등에 지방세 감면  칠곡군, 코로나19 피해극복·경제활성화 위해 지방세 11억여 원 감면\n",
       "71              美 실리콘밸리 기업 천안에 둥지            한화건설, '포레나 천안신부' 온라인 견본주택 오픈\n",
       "79   다나와 창업주 성장현 회장 퇴임…안징현 대표 체제로          [2018 하반기 인기상품]전자신문 인기상품 '다나와'\n",
       "127        “학교폭력 고발극, 학생은 찾지 마시라”                      “누가 우리 아이 괴물로 만든가”\n",
       "129             북하니가 소개하는 책이 있는 곳                      ‘상상력의 대가’ 데이비드 위즈너"
      ]
     },
     "execution_count": 13,
     "metadata": {},
     "output_type": "execute_result"
    }
   ],
   "source": [
    "df[np.round(df['filter_bertscore'], 2) == 0.90][['original_title','fake_title']].iloc[:5]"
   ]
  },
  {
   "cell_type": "code",
   "execution_count": 14,
   "metadata": {},
   "outputs": [
    {
     "data": {
      "text/html": [
       "<div>\n",
       "<style scoped>\n",
       "    .dataframe tbody tr th:only-of-type {\n",
       "        vertical-align: middle;\n",
       "    }\n",
       "\n",
       "    .dataframe tbody tr th {\n",
       "        vertical-align: top;\n",
       "    }\n",
       "\n",
       "    .dataframe thead th {\n",
       "        text-align: right;\n",
       "    }\n",
       "</style>\n",
       "<table border=\"1\" class=\"dataframe\">\n",
       "  <thead>\n",
       "    <tr style=\"text-align: right;\">\n",
       "      <th></th>\n",
       "      <th>original_title</th>\n",
       "      <th>fake_title</th>\n",
       "    </tr>\n",
       "  </thead>\n",
       "  <tbody>\n",
       "    <tr>\n",
       "      <th>1</th>\n",
       "      <td>상반기 사이버 보안 3대 위협, 랜섬웨어 그리고…</td>\n",
       "      <td>성인용 게임 위장 악성코드 확산...\\\"디도스 공격 위협\\\"</td>\n",
       "    </tr>\n",
       "    <tr>\n",
       "      <th>5</th>\n",
       "      <td>무안군 SW교육, 3D프린터·드론에 초점…노하우 전수로 취·창업 돕는다</td>\n",
       "      <td>드론안전기술, 경기도콘텐츠진흥원과 군 장병 대상 '드론 교육' 실시</td>\n",
       "    </tr>\n",
       "    <tr>\n",
       "      <th>11</th>\n",
       "      <td>유라 ‘기상청 사람들’ 취재한다</td>\n",
       "      <td>‘기상청 사람들’ 박민영×송강, '눈길' 포착</td>\n",
       "    </tr>\n",
       "    <tr>\n",
       "      <th>14</th>\n",
       "      <td>영국 두번째 여왕 퀸①-프레디 머큐리의 쇼는 계속된다</td>\n",
       "      <td>[이재익의 아재음악 열전] 퀸와 엘턴 존</td>\n",
       "    </tr>\n",
       "    <tr>\n",
       "      <th>16</th>\n",
       "      <td>안산 '강소연구개발특구' 지정</td>\n",
       "      <td>인천 '에코사이언스파크 강소연구개발특구' 지정 추진</td>\n",
       "    </tr>\n",
       "    <tr>\n",
       "      <th>18</th>\n",
       "      <td>\\\"아들 낳은 엄마들 수명 짧아질 수도\\\"</td>\n",
       "      <td>[Family건강] 아들 가진 엄마, 딸 낳은 엄마보다 수명 짧아</td>\n",
       "    </tr>\n",
       "    <tr>\n",
       "      <th>20</th>\n",
       "      <td>구미시 5공단에 90MW규모 연료전지발전소 건설</td>\n",
       "      <td>광주광역시, 수소연료전지발전소 건설 추진...100MW급 2기 건설</td>\n",
       "    </tr>\n",
       "    <tr>\n",
       "      <th>29</th>\n",
       "      <td>‘오징어 게임’. 세상은 잔혹하다[스경연예연구소]</td>\n",
       "      <td>넷플릭스, ‘오징어 게임’ 시즌2 제작 확정</td>\n",
       "    </tr>\n",
       "    <tr>\n",
       "      <th>39</th>\n",
       "      <td>스트레스 중독 급증, 원인은? \\\"아드레날린 중독→일 중독→만성 스트레스, 악순환\\\"</td>\n",
       "      <td>스트레스 중독 급증...\\\"아드레날린 중독자는 일 중독자\\\"</td>\n",
       "    </tr>\n",
       "    <tr>\n",
       "      <th>40</th>\n",
       "      <td>'방역 조치 해제' 앞둔 독일, '델타 변이'로 감염 다시 증가</td>\n",
       "      <td>독일, 코로나 누적 확진자 300만명 돌파...6월 말 기준 59% '델타 변이'</td>\n",
       "    </tr>\n",
       "  </tbody>\n",
       "</table>\n",
       "</div>"
      ],
      "text/plain": [
       "                                     original_title  \\\n",
       "1                       상반기 사이버 보안 3대 위협, 랜섬웨어 그리고…   \n",
       "5           무안군 SW교육, 3D프린터·드론에 초점…노하우 전수로 취·창업 돕는다   \n",
       "11                                유라 ‘기상청 사람들’ 취재한다   \n",
       "14                    영국 두번째 여왕 퀸①-프레디 머큐리의 쇼는 계속된다   \n",
       "16                                 안산 '강소연구개발특구' 지정   \n",
       "18                          \\\"아들 낳은 엄마들 수명 짧아질 수도\\\"   \n",
       "20                       구미시 5공단에 90MW규모 연료전지발전소 건설   \n",
       "29                      ‘오징어 게임’. 세상은 잔혹하다[스경연예연구소]   \n",
       "39  스트레스 중독 급증, 원인은? \\\"아드레날린 중독→일 중독→만성 스트레스, 악순환\\\"   \n",
       "40              '방역 조치 해제' 앞둔 독일, '델타 변이'로 감염 다시 증가   \n",
       "\n",
       "                                       fake_title  \n",
       "1               성인용 게임 위장 악성코드 확산...\\\"디도스 공격 위협\\\"  \n",
       "5           드론안전기술, 경기도콘텐츠진흥원과 군 장병 대상 '드론 교육' 실시  \n",
       "11                      ‘기상청 사람들’ 박민영×송강, '눈길' 포착  \n",
       "14                         [이재익의 아재음악 열전] 퀸와 엘턴 존  \n",
       "16                   인천 '에코사이언스파크 강소연구개발특구' 지정 추진  \n",
       "18           [Family건강] 아들 가진 엄마, 딸 낳은 엄마보다 수명 짧아  \n",
       "20          광주광역시, 수소연료전지발전소 건설 추진...100MW급 2기 건설  \n",
       "29                       넷플릭스, ‘오징어 게임’ 시즌2 제작 확정  \n",
       "39              스트레스 중독 급증...\\\"아드레날린 중독자는 일 중독자\\\"  \n",
       "40  독일, 코로나 누적 확진자 300만명 돌파...6월 말 기준 59% '델타 변이'  "
      ]
     },
     "execution_count": 14,
     "metadata": {},
     "output_type": "execute_result"
    }
   ],
   "source": [
    "df[np.round(df['filter_bertscore'], 2) == 0.93][['original_title','fake_title']].iloc[:10]"
   ]
  },
  {
   "cell_type": "code",
   "execution_count": 15,
   "metadata": {},
   "outputs": [
    {
     "data": {
      "text/html": [
       "<div>\n",
       "<style scoped>\n",
       "    .dataframe tbody tr th:only-of-type {\n",
       "        vertical-align: middle;\n",
       "    }\n",
       "\n",
       "    .dataframe tbody tr th {\n",
       "        vertical-align: top;\n",
       "    }\n",
       "\n",
       "    .dataframe thead th {\n",
       "        text-align: right;\n",
       "    }\n",
       "</style>\n",
       "<table border=\"1\" class=\"dataframe\">\n",
       "  <thead>\n",
       "    <tr style=\"text-align: right;\">\n",
       "      <th></th>\n",
       "      <th>original_title</th>\n",
       "      <th>fake_title</th>\n",
       "    </tr>\n",
       "  </thead>\n",
       "  <tbody>\n",
       "    <tr>\n",
       "      <th>274</th>\n",
       "      <td>文대통령 \\\"백신 공평한 접근 배분\\\"…유엔총장 \\\"접종 두 배 늘려야\\\"</td>\n",
       "      <td>文대통령 \\\"코로나 백신 공평한 접근· 분배가 위기 극복 첫걸음\\\"</td>\n",
       "    </tr>\n",
       "    <tr>\n",
       "      <th>275</th>\n",
       "      <td>[원유마감]WTI 0.5% 상승…다음주 OPEC+ 증산 여부 주목</td>\n",
       "      <td>[원유마감]WTI 2% 급락...OPEC 갈등에 급등락</td>\n",
       "    </tr>\n",
       "    <tr>\n",
       "      <th>280</th>\n",
       "      <td>尹, '어민 북송' 규명 요구에 \\\"검토 중…많은 국민이 문제제기\\\"</td>\n",
       "      <td>, 文정부 사건 전방위 '진상규명 드라이브'... \\\"많은 국민 의문 제기\\\"</td>\n",
       "    </tr>\n",
       "    <tr>\n",
       "      <th>297</th>\n",
       "      <td>스페인 인구 70% 백신 접종 마쳤다…방역 규제 완화도</td>\n",
       "      <td>스페인, 얀센 백신 70~79세 대상 우선 접종</td>\n",
       "    </tr>\n",
       "    <tr>\n",
       "      <th>298</th>\n",
       "      <td>이유리-정상훈 ‘펀스토랑’ 전격 컴백 “드라마 홍보하려고”</td>\n",
       "      <td>‘편스토랑’ 정상훈, 이준기에 분노 “드라마 홍보하려”</td>\n",
       "    </tr>\n",
       "  </tbody>\n",
       "</table>\n",
       "</div>"
      ],
      "text/plain": [
       "                                original_title  \\\n",
       "274  文대통령 \\\"백신 공평한 접근 배분\\\"…유엔총장 \\\"접종 두 배 늘려야\\\"   \n",
       "275       [원유마감]WTI 0.5% 상승…다음주 OPEC+ 증산 여부 주목   \n",
       "280     尹, '어민 북송' 규명 요구에 \\\"검토 중…많은 국민이 문제제기\\\"   \n",
       "297             스페인 인구 70% 백신 접종 마쳤다…방역 규제 완화도   \n",
       "298           이유리-정상훈 ‘펀스토랑’ 전격 컴백 “드라마 홍보하려고”   \n",
       "\n",
       "                                      fake_title  \n",
       "274        文대통령 \\\"코로나 백신 공평한 접근· 분배가 위기 극복 첫걸음\\\"  \n",
       "275               [원유마감]WTI 2% 급락...OPEC 갈등에 급등락  \n",
       "280  , 文정부 사건 전방위 '진상규명 드라이브'... \\\"많은 국민 의문 제기\\\"  \n",
       "297                   스페인, 얀센 백신 70~79세 대상 우선 접종  \n",
       "298               ‘편스토랑’ 정상훈, 이준기에 분노 “드라마 홍보하려”  "
      ]
     },
     "execution_count": 15,
     "metadata": {},
     "output_type": "execute_result"
    }
   ],
   "source": [
    "df[np.round(df['filter_bertscore'], 2) == 0.96][['original_title','fake_title']].iloc[25:30]"
   ]
  },
  {
   "cell_type": "code",
   "execution_count": 64,
   "metadata": {},
   "outputs": [
    {
     "data": {
      "text/html": [
       "<div>\n",
       "<style scoped>\n",
       "    .dataframe tbody tr th:only-of-type {\n",
       "        vertical-align: middle;\n",
       "    }\n",
       "\n",
       "    .dataframe tbody tr th {\n",
       "        vertical-align: top;\n",
       "    }\n",
       "\n",
       "    .dataframe thead th {\n",
       "        text-align: right;\n",
       "    }\n",
       "</style>\n",
       "<table border=\"1\" class=\"dataframe\">\n",
       "  <thead>\n",
       "    <tr style=\"text-align: right;\">\n",
       "      <th></th>\n",
       "      <th>original_title</th>\n",
       "      <th>fake_title</th>\n",
       "    </tr>\n",
       "  </thead>\n",
       "  <tbody>\n",
       "    <tr>\n",
       "      <th>1871</th>\n",
       "      <td>KB국민카드 AI 기반 챗봇 '큐디 3.0' 서비스 시작</td>\n",
       "      <td>KB국민카드, AI 챗봇 '큐디 3.0' 서비스 개시</td>\n",
       "    </tr>\n",
       "    <tr>\n",
       "      <th>2201</th>\n",
       "      <td>하이트진로, 브랜드 빌딩 스타트업 '헤드쿼터'에 투자</td>\n",
       "      <td>하이트진로, 브랜드 빌딩 스타트업 '헤드쿼터' 지분 투자</td>\n",
       "    </tr>\n",
       "    <tr>\n",
       "      <th>2233</th>\n",
       "      <td>푸틴 \\\"서방 제재로 세계 식량가격 급등할 것\\\"</td>\n",
       "      <td>푸틴 \\\"서방 제재로 세계 식량가격 급등할 수도\\\"</td>\n",
       "    </tr>\n",
       "    <tr>\n",
       "      <th>2606</th>\n",
       "      <td>DB손보, 대구에서 유기견 펫보험 지원사업 시행</td>\n",
       "      <td>DB손보, 대구시와 유기견 펫보험 지원사업 시행</td>\n",
       "    </tr>\n",
       "    <tr>\n",
       "      <th>2808</th>\n",
       "      <td>울산시, 베트남 국제기계전시회 참가 기업 모집</td>\n",
       "      <td>울산시, 베트남 국제기계전시회 참가 업체 모집</td>\n",
       "    </tr>\n",
       "    <tr>\n",
       "      <th>2856</th>\n",
       "      <td>두산중공업, 이집트 해수담수화 시장 진출한다</td>\n",
       "      <td>두산중공업, 이집트 해수담수화 사업 본격 진출</td>\n",
       "    </tr>\n",
       "  </tbody>\n",
       "</table>\n",
       "</div>"
      ],
      "text/plain": [
       "                       original_title                       fake_title\n",
       "1871  KB국민카드 AI 기반 챗봇 '큐디 3.0' 서비스 시작    KB국민카드, AI 챗봇 '큐디 3.0' 서비스 개시\n",
       "2201    하이트진로, 브랜드 빌딩 스타트업 '헤드쿼터'에 투자  하이트진로, 브랜드 빌딩 스타트업 '헤드쿼터' 지분 투자\n",
       "2233      푸틴 \\\"서방 제재로 세계 식량가격 급등할 것\\\"     푸틴 \\\"서방 제재로 세계 식량가격 급등할 수도\\\"\n",
       "2606       DB손보, 대구에서 유기견 펫보험 지원사업 시행       DB손보, 대구시와 유기견 펫보험 지원사업 시행\n",
       "2808        울산시, 베트남 국제기계전시회 참가 기업 모집        울산시, 베트남 국제기계전시회 참가 업체 모집\n",
       "2856         두산중공업, 이집트 해수담수화 시장 진출한다        두산중공업, 이집트 해수담수화 사업 본격 진출"
      ]
     },
     "execution_count": 64,
     "metadata": {},
     "output_type": "execute_result"
    }
   ],
   "source": [
    "df[np.round(df['filter_bertscore'], 2) == 0.99][['original_title','fake_title']].iloc[10:16]"
   ]
  },
  {
   "cell_type": "code",
   "execution_count": 65,
   "metadata": {},
   "outputs": [
    {
     "data": {
      "text/html": [
       "<div>\n",
       "<style scoped>\n",
       "    .dataframe tbody tr th:only-of-type {\n",
       "        vertical-align: middle;\n",
       "    }\n",
       "\n",
       "    .dataframe tbody tr th {\n",
       "        vertical-align: top;\n",
       "    }\n",
       "\n",
       "    .dataframe thead th {\n",
       "        text-align: right;\n",
       "    }\n",
       "</style>\n",
       "<table border=\"1\" class=\"dataframe\">\n",
       "  <thead>\n",
       "    <tr style=\"text-align: right;\">\n",
       "      <th></th>\n",
       "      <th>original_title</th>\n",
       "      <th>fake_title</th>\n",
       "    </tr>\n",
       "  </thead>\n",
       "  <tbody>\n",
       "    <tr>\n",
       "      <th>2498</th>\n",
       "      <td>‘슈돌’ 정시아 붕어빵 딸 서우 “아빠가 설거지만 한다. 5분 놀아준다.” 깜찍한 폭로</td>\n",
       "      <td>‘슈돌’ 정시아 붕어빵 딸 서우 “아빠가 설거지만 한다. 5분 놀아준다.” 깜찍한 폭로</td>\n",
       "    </tr>\n",
       "    <tr>\n",
       "      <th>2575</th>\n",
       "      <td>SSG닷컴, e커머스 업계 최초 안전보건경영시스템 인증 획득</td>\n",
       "      <td>SSG닷컴, e커머스 업계 최초 안전보건경영시스템 인증 획득</td>\n",
       "    </tr>\n",
       "    <tr>\n",
       "      <th>2581</th>\n",
       "      <td>천안시, 무료 물놀이장 내달 20일 개장</td>\n",
       "      <td>천안시, 무료 물놀이장 내달 20일 개장</td>\n",
       "    </tr>\n",
       "    <tr>\n",
       "      <th>2621</th>\n",
       "      <td>‘부탁해요 엄마’ 김미숙, 약속 잊은 이상우에게 “엄마 생각은 안났니?” 서운함 토로</td>\n",
       "      <td>‘부탁해요 엄마’ 김미숙, 약속 잊은 이상우에게 “엄마 생각은 안났니?” 서운함 토로</td>\n",
       "    </tr>\n",
       "    <tr>\n",
       "      <th>3145</th>\n",
       "      <td>전남교육청, 2022학년도 공립 중등교사 378명 선발 예고</td>\n",
       "      <td>전남교육청, 2022학년도 공립 중등교사 378명 선발 예고</td>\n",
       "    </tr>\n",
       "    <tr>\n",
       "      <th>3306</th>\n",
       "      <td>청룡영화제 이유영, 대종상 여우신인상에 이어 두 번째 수상 “응원해주셔서 감사하다”</td>\n",
       "      <td>청룡영화제 이유영, 대종상 여우신인상에 이어 두 번째 수상 “응원해주셔서 감사하다”</td>\n",
       "    </tr>\n",
       "  </tbody>\n",
       "</table>\n",
       "</div>"
      ],
      "text/plain": [
       "                                        original_title  \\\n",
       "2498  ‘슈돌’ 정시아 붕어빵 딸 서우 “아빠가 설거지만 한다. 5분 놀아준다.” 깜찍한 폭로   \n",
       "2575                 SSG닷컴, e커머스 업계 최초 안전보건경영시스템 인증 획득   \n",
       "2581                            천안시, 무료 물놀이장 내달 20일 개장   \n",
       "2621   ‘부탁해요 엄마’ 김미숙, 약속 잊은 이상우에게 “엄마 생각은 안났니?” 서운함 토로   \n",
       "3145                 전남교육청, 2022학년도 공립 중등교사 378명 선발 예고   \n",
       "3306    청룡영화제 이유영, 대종상 여우신인상에 이어 두 번째 수상 “응원해주셔서 감사하다”   \n",
       "\n",
       "                                            fake_title  \n",
       "2498  ‘슈돌’ 정시아 붕어빵 딸 서우 “아빠가 설거지만 한다. 5분 놀아준다.” 깜찍한 폭로  \n",
       "2575                 SSG닷컴, e커머스 업계 최초 안전보건경영시스템 인증 획득  \n",
       "2581                            천안시, 무료 물놀이장 내달 20일 개장  \n",
       "2621   ‘부탁해요 엄마’ 김미숙, 약속 잊은 이상우에게 “엄마 생각은 안났니?” 서운함 토로  \n",
       "3145                 전남교육청, 2022학년도 공립 중등교사 378명 선발 예고  \n",
       "3306    청룡영화제 이유영, 대종상 여우신인상에 이어 두 번째 수상 “응원해주셔서 감사하다”  "
      ]
     },
     "execution_count": 65,
     "metadata": {},
     "output_type": "execute_result"
    }
   ],
   "source": [
    "df[np.round(df['filter_bertscore'], 2) == 1.0][['original_title','fake_title']].iloc[10:16]"
   ]
  },
  {
   "cell_type": "code",
   "execution_count": 6,
   "metadata": {},
   "outputs": [
    {
     "data": {
      "text/html": [
       "<div>\n",
       "<style scoped>\n",
       "    .dataframe tbody tr th:only-of-type {\n",
       "        vertical-align: middle;\n",
       "    }\n",
       "\n",
       "    .dataframe tbody tr th {\n",
       "        vertical-align: top;\n",
       "    }\n",
       "\n",
       "    .dataframe thead th {\n",
       "        text-align: right;\n",
       "    }\n",
       "</style>\n",
       "<table border=\"1\" class=\"dataframe\">\n",
       "  <thead>\n",
       "    <tr style=\"text-align: right;\">\n",
       "      <th></th>\n",
       "      <th>news_id</th>\n",
       "      <th>original_title</th>\n",
       "      <th>original_content</th>\n",
       "      <th>sim_news_id</th>\n",
       "      <th>bait_title</th>\n",
       "      <th>category</th>\n",
       "      <th>label</th>\n",
       "      <th>fake_title</th>\n",
       "      <th>sim_news_content</th>\n",
       "      <th>sim_news_title</th>\n",
       "    </tr>\n",
       "  </thead>\n",
       "  <tbody>\n",
       "    <tr>\n",
       "      <th>0</th>\n",
       "      <td>PO_M03_417681</td>\n",
       "      <td>정경두 “SLBM 도발은 남북군사합의에 없다”</td>\n",
       "      <td>정경두 국방부 장관은 2일 국회 국방위원회 국정감사에서 북한의 이날 미사일 발사가 ...</td>\n",
       "      <td>PO_M03_115891</td>\n",
       "      <td>NaN</td>\n",
       "      <td>PO</td>\n",
       "      <td>0</td>\n",
       "      <td>정경두 \\\"北 미사일, 9·19 군사합의 위반 아냐\\\"</td>\n",
       "      <td>북한이 순항미사일을 발사한 지 3일 만인 15일 단거리 탄도미사일 2발을 동해상으로...</td>\n",
       "      <td>한국 첫 SLBM 쏜날, 북 탄도미사일 도발</td>\n",
       "    </tr>\n",
       "  </tbody>\n",
       "</table>\n",
       "</div>"
      ],
      "text/plain": [
       "         news_id             original_title  \\\n",
       "0  PO_M03_417681  정경두 “SLBM 도발은 남북군사합의에 없다”   \n",
       "\n",
       "                                    original_content    sim_news_id  \\\n",
       "0  정경두 국방부 장관은 2일 국회 국방위원회 국정감사에서 북한의 이날 미사일 발사가 ...  PO_M03_115891   \n",
       "\n",
       "   bait_title category  label                      fake_title  \\\n",
       "0         NaN       PO      0  정경두 \\\"北 미사일, 9·19 군사합의 위반 아냐\\\"   \n",
       "\n",
       "                                    sim_news_content            sim_news_title  \n",
       "0  북한이 순항미사일을 발사한 지 3일 만인 15일 단거리 탄도미사일 2발을 동해상으로...  한국 첫 SLBM 쏜날, 북 탄도미사일 도발  "
      ]
     },
     "execution_count": 6,
     "metadata": {},
     "output_type": "execute_result"
    }
   ],
   "source": [
    "df.rename(columns={'content':'original_content'}, inplace=True)\n",
    "df.head(1)"
   ]
  },
  {
   "cell_type": "code",
   "execution_count": 7,
   "metadata": {},
   "outputs": [],
   "source": [
    "df.to_csv(data_path, index=False)"
   ]
  },
  {
   "cell_type": "code",
   "execution_count": 50,
   "metadata": {},
   "outputs": [
    {
     "data": {
      "text/plain": [
       "<Figure size 432x432 with 0 Axes>"
      ]
     },
     "metadata": {},
     "output_type": "display_data"
    },
    {
     "data": {
      "image/png": "[encoded data removed]",
      "text/plain": [
       "<Figure size 360x360 with 1 Axes>"
      ]
     },
     "metadata": {
      "needs_background": "light"
     },
     "output_type": "display_data"
    }
   ],
   "source": [
    "import seaborn as sns\n",
    "import matplotlib.pyplot as plt\n",
    "import numpy as np\n",
    "\n",
    "bin_size = 100\n",
    "bins = [i * 1 / bin_size for i in range(bin_size)]\n",
    "score = df['filter_bertscore']\n",
    "\n",
    "plt.figure(figsize=(6,6))\n",
    "g = sns.displot(score, kde=True)\n",
    "\n",
    "plt.xlim(0.8, 1.00)\n",
    "plt.xticks(np.arange(0.8, 1.001, 0.025), rotation=45)\n",
    "\n",
    "plt.axvline(0.9, color='#e35f62', linestyle='--')\n",
    "plt.axvline(0.99, color='#e35f62', linestyle='--')\n",
    "\n",
    "\n",
    "plt.xlabel('BERTScore')\n",
    "plt.ylabel('Count')\n",
    "plt.title('content_chunking_forward')\n",
    "\n",
    "plt.show()"
   ]
  },
  {
   "cell_type": "code",
   "execution_count": 4,
   "metadata": {},
   "outputs": [
    {
     "name": "stderr",
     "output_type": "stream",
     "text": [
      "                                                                        \r"
     ]
    }
   ],
   "source": [
    "# 가설 : 가짜 제목이면 본문에 없는 단어가 포함될 것이다.\n",
    "from konlpy.tag import Mecab\n",
    "from tqdm import tqdm\n",
    "import re\n",
    " \n",
    "def clean_text(text):\n",
    "  text_removed = re.sub('[-=+,#/\\?:^.@*\\\"※~ㆍ!』‘|\\(\\)\\[\\]`\\'…》\\”\\“\\’·]', ' ', text)\n",
    "  return text_removed\n",
    "\n",
    "mecab = Mecab()\n",
    "titles = df['fake_title'].tolist()\n",
    "contents = df['original_content'].tolist()\n",
    "\n",
    "title_n_list = []\n",
    "content_n_list = []\n",
    "for idx in tqdm(range(len(titles)), desc=f'Extract Morphs', total=len(titles), leave=False):\n",
    "    title_cleaned = clean_text(titles[idx])\n",
    "    content_cleaned = clean_text(contents[idx])\n",
    "    title_n_list.append([m for m in mecab.morphs(title_cleaned) if len(m) > 1])\n",
    "    content_n_list.append([m for m in mecab.morphs(content_cleaned) if len(m) > 1])"
   ]
  },
  {
   "cell_type": "code",
   "execution_count": 5,
   "metadata": {},
   "outputs": [],
   "source": [
    "fake = []\n",
    "tokens_for_fakenews = []\n",
    "for title, content in zip(title_n_list, content_n_list):\n",
    "    fake_token = ''\n",
    "    f = 0 #flag for no false negative\n",
    "    for token in title:\n",
    "        # 가설 : 가짜 제목이면 본문에 없는 단어가 포함될 것이다.\n",
    "        content_joined = ' '.join(content)\n",
    "        if content_joined.count(token) == 0:\n",
    "            f = 1\n",
    "            fake_token += token + ' '\n",
    "    if f == 1:\n",
    "        fake.append(1)\n",
    "    else:\n",
    "        fake.append(0)\n",
    "    tokens_for_fakenews.append(fake_token)\n",
    "df['fake'] = fake\n",
    "df['tokens_for_fake'] = tokens_for_fakenews"
   ]
  },
  {
   "cell_type": "code",
   "execution_count": 6,
   "metadata": {},
   "outputs": [
    {
     "data": {
      "text/plain": [
       "86644"
      ]
     },
     "execution_count": 6,
     "metadata": {},
     "output_type": "execute_result"
    }
   ],
   "source": [
    "len(df[df['fake']==1])"
   ]
  },
  {
   "cell_type": "code",
   "execution_count": 2,
   "metadata": {},
   "outputs": [],
   "source": [
    "real_df = pd.read_csv('/workspace/code/bait_news_gen/data/Real/test.csv')\n",
    "fake_df = pd.read_csv('/workspace/code/bait_news_gen/data/Fake/content_rotation_forward/filtered/test.csv')"
   ]
  },
  {
   "cell_type": "code",
   "execution_count": 3,
   "metadata": {},
   "outputs": [],
   "source": [
    "from KoBERTScore.KoBERTScore import BERTScore\n",
    "import kss\n",
    "from tqdm import tqdm\n",
    "\n",
    "# 제목과 본문내 각 문장 사이의 BERTScore를 구함\n",
    "def get_max_score(df, real=True):\n",
    "    max_score = []\n",
    "    content_n_list = []\n",
    "    title_n_list = []\n",
    "    len_list = []\n",
    "    for idx in tqdm(range(len(df))):\n",
    "        content_sentences = kss.split_sentences(df.loc[idx, 'original_content'])\n",
    "        content_n_list += content_sentences\n",
    "        if real == True:\n",
    "            title_duplicated = [df.loc[idx, 'original_title']] * len(content_sentences)\n",
    "        else:\n",
    "            title_duplicated = [df.loc[idx, 'fake_title']] * len(content_sentences)\n",
    "        title_n_list += title_duplicated\n",
    "        len_list.append(len(content_sentences))\n",
    "    bert_scorer = BERTScore(model_name_or_path = 'klue/roberta-large')\n",
    "    score = bert_scorer.score(content_n_list, title_n_list, batch_size=64)\n",
    "    \n",
    "    start_idx = 0\n",
    "    for length in tqdm(len_list):\n",
    "        max_score.append(max(score[start_idx : start_idx+length]))\n",
    "        start_idx += length\n",
    "    df['max_score'] = max_score\n",
    "    return df"
   ]
  },
  {
   "cell_type": "code",
   "execution_count": null,
   "metadata": {},
   "outputs": [],
   "source": [
    "real_df = get_max_score(real_df.iloc[:50])"
   ]
  },
  {
   "cell_type": "code",
   "execution_count": 31,
   "metadata": {},
   "outputs": [
    {
     "data": {
      "text/plain": [
       "count    50.000000\n",
       "mean      0.929175\n",
       "std       0.011455\n",
       "min       0.896693\n",
       "25%       0.925033\n",
       "50%       0.929234\n",
       "75%       0.933736\n",
       "max       0.967243\n",
       "Name: max_score, dtype: float64"
      ]
     },
     "execution_count": 31,
     "metadata": {},
     "output_type": "execute_result"
    }
   ],
   "source": [
    "real_df['max_score'].describe()"
   ]
  },
  {
   "cell_type": "code",
   "execution_count": 4,
   "metadata": {},
   "outputs": [
    {
     "name": "stderr",
     "output_type": "stream",
     "text": [
      "  0%|          | 0/50 [00:00<?, ?it/s][Kss]: Oh! You have mecab in your environment. Kss will take this as a backend! :D\n",
      "\n",
      "100%|██████████| 50/50 [00:02<00:00, 17.19it/s]\n",
      "You are using a model of type roberta to instantiate a model of type bert. This is not supported for all configurations of models and can yield errors.\n",
      "Some weights of the model checkpoint at klue/roberta-large were not used when initializing BertModel: ['roberta.encoder.layer.11.attention.output.LayerNorm.bias', 'roberta.encoder.layer.22.attention.self.value.weight', 'roberta.encoder.layer.0.attention.output.dense.weight', 'roberta.encoder.layer.23.output.dense.bias', 'roberta.encoder.layer.8.attention.self.value.weight', 'roberta.encoder.layer.22.attention.output.LayerNorm.bias', 'roberta.encoder.layer.9.attention.self.key.weight', 'roberta.encoder.layer.14.attention.self.key.weight', 'roberta.encoder.layer.16.attention.output.dense.weight', 'roberta.encoder.layer.13.attention.self.query.bias', 'roberta.encoder.layer.10.attention.self.key.bias', 'roberta.encoder.layer.12.attention.output.dense.weight', 'roberta.encoder.layer.3.attention.self.key.bias', 'roberta.encoder.layer.5.attention.output.LayerNorm.bias', 'roberta.encoder.layer.1.output.LayerNorm.weight', 'roberta.encoder.layer.5.attention.output.LayerNorm.weight', 'roberta.encoder.layer.4.output.dense.bias', 'roberta.encoder.layer.22.output.LayerNorm.weight', 'roberta.encoder.layer.5.intermediate.dense.weight', 'roberta.encoder.layer.23.attention.self.value.weight', 'roberta.encoder.layer.21.output.LayerNorm.bias', 'roberta.encoder.layer.13.output.LayerNorm.bias', 'roberta.encoder.layer.12.attention.self.query.weight', 'roberta.encoder.layer.0.output.LayerNorm.weight', 'roberta.encoder.layer.20.attention.self.query.bias', 'roberta.encoder.layer.6.attention.output.dense.bias', 'roberta.encoder.layer.8.attention.self.value.bias', 'roberta.encoder.layer.7.attention.self.query.bias', 'roberta.encoder.layer.0.attention.output.LayerNorm.bias', 'roberta.encoder.layer.6.attention.self.query.weight', 'roberta.encoder.layer.17.output.LayerNorm.weight', 'roberta.encoder.layer.11.intermediate.dense.weight', 'roberta.encoder.layer.16.attention.self.value.bias', 'roberta.encoder.layer.14.attention.output.dense.weight', 'roberta.encoder.layer.15.output.LayerNorm.bias', 'roberta.encoder.layer.22.attention.self.key.weight', 'roberta.encoder.layer.16.attention.self.query.bias', 'roberta.encoder.layer.6.output.dense.bias', 'roberta.encoder.layer.1.attention.output.dense.bias', 'roberta.encoder.layer.12.attention.output.LayerNorm.weight', 'roberta.encoder.layer.15.attention.self.value.weight', 'roberta.encoder.layer.10.attention.output.LayerNorm.bias', 'roberta.encoder.layer.3.output.LayerNorm.weight', 'roberta.encoder.layer.19.attention.output.dense.bias', 'lm_head.dense.weight', 'roberta.encoder.layer.18.intermediate.dense.bias', 'roberta.encoder.layer.2.attention.output.LayerNorm.weight', 'roberta.encoder.layer.13.output.LayerNorm.weight', 'roberta.encoder.layer.23.attention.self.query.bias', 'roberta.encoder.layer.20.output.LayerNorm.bias', 'roberta.encoder.layer.7.output.dense.bias', 'roberta.encoder.layer.20.output.LayerNorm.weight', 'roberta.encoder.layer.4.attention.self.value.bias', 'roberta.encoder.layer.17.attention.self.query.weight', 'roberta.encoder.layer.23.attention.self.key.bias', 'roberta.encoder.layer.6.attention.output.LayerNorm.bias', 'roberta.encoder.layer.18.output.LayerNorm.weight', 'roberta.encoder.layer.23.output.dense.weight', 'roberta.encoder.layer.7.attention.output.LayerNorm.bias', 'roberta.encoder.layer.16.attention.self.query.weight', 'roberta.encoder.layer.18.attention.self.key.weight', 'roberta.encoder.layer.22.attention.self.key.bias', 'roberta.encoder.layer.21.intermediate.dense.weight', 'roberta.encoder.layer.19.intermediate.dense.weight', 'roberta.encoder.layer.13.attention.output.LayerNorm.weight', 'roberta.encoder.layer.1.attention.output.dense.weight', 'roberta.encoder.layer.21.attention.output.LayerNorm.bias', 'roberta.encoder.layer.15.attention.self.value.bias', 'roberta.encoder.layer.10.attention.self.key.weight', 'roberta.encoder.layer.17.attention.self.key.weight', 'roberta.encoder.layer.11.output.dense.bias', 'roberta.encoder.layer.0.attention.self.query.bias', 'roberta.encoder.layer.19.attention.output.LayerNorm.bias', 'roberta.encoder.layer.9.output.LayerNorm.bias', 'roberta.encoder.layer.16.attention.output.dense.bias', 'roberta.encoder.layer.17.attention.self.value.bias', 'roberta.encoder.layer.11.output.dense.weight', 'roberta.encoder.layer.12.output.dense.weight', 'roberta.encoder.layer.10.output.dense.bias', 'roberta.encoder.layer.19.output.LayerNorm.weight', 'roberta.encoder.layer.6.attention.output.dense.weight', 'roberta.encoder.layer.18.attention.output.dense.bias', 'roberta.encoder.layer.1.attention.output.LayerNorm.bias', 'roberta.encoder.layer.21.attention.self.value.bias', 'roberta.encoder.layer.4.attention.self.key.weight', 'roberta.encoder.layer.20.output.dense.bias', 'roberta.encoder.layer.3.intermediate.dense.bias', 'roberta.encoder.layer.6.output.dense.weight', 'roberta.encoder.layer.7.intermediate.dense.weight', 'roberta.encoder.layer.13.attention.self.key.weight', 'roberta.encoder.layer.4.attention.output.dense.weight', 'roberta.encoder.layer.18.attention.output.dense.weight', 'roberta.encoder.layer.10.attention.self.value.weight', 'roberta.encoder.layer.23.attention.output.dense.weight', 'roberta.encoder.layer.4.attention.self.query.weight', 'roberta.encoder.layer.14.attention.self.value.weight', 'roberta.encoder.layer.13.attention.self.key.bias', 'roberta.encoder.layer.11.attention.output.dense.weight', 'roberta.encoder.layer.3.output.LayerNorm.bias', 'roberta.encoder.layer.3.attention.self.key.weight', 'roberta.encoder.layer.15.output.LayerNorm.weight', 'roberta.encoder.layer.13.attention.self.value.bias', 'roberta.encoder.layer.18.intermediate.dense.weight', 'roberta.encoder.layer.13.attention.self.query.weight', 'roberta.encoder.layer.23.attention.output.LayerNorm.bias', 'roberta.encoder.layer.6.intermediate.dense.bias', 'roberta.encoder.layer.9.attention.self.query.bias', 'roberta.encoder.layer.22.attention.self.query.weight', 'roberta.encoder.layer.0.output.dense.bias', 'roberta.encoder.layer.15.attention.output.dense.weight', 'roberta.encoder.layer.8.attention.output.LayerNorm.bias', 'roberta.encoder.layer.15.output.dense.bias', 'roberta.encoder.layer.18.output.dense.weight', 'roberta.encoder.layer.23.intermediate.dense.weight', 'roberta.encoder.layer.10.attention.self.query.weight', 'roberta.encoder.layer.21.attention.output.dense.bias', 'roberta.encoder.layer.7.attention.self.key.bias', 'roberta.encoder.layer.7.attention.self.key.weight', 'roberta.encoder.layer.11.attention.self.query.weight', 'roberta.encoder.layer.17.attention.output.LayerNorm.bias', 'roberta.encoder.layer.19.attention.self.value.weight', 'roberta.encoder.layer.3.attention.output.LayerNorm.weight', 'roberta.encoder.layer.20.output.dense.weight', 'roberta.encoder.layer.17.output.LayerNorm.bias', 'roberta.encoder.layer.7.attention.self.query.weight', 'roberta.encoder.layer.12.output.LayerNorm.bias', 'roberta.encoder.layer.21.output.dense.bias', 'roberta.encoder.layer.5.attention.self.value.weight', 'roberta.encoder.layer.5.intermediate.dense.bias', 'roberta.encoder.layer.4.output.LayerNorm.weight', 'roberta.encoder.layer.20.attention.output.LayerNorm.weight', 'roberta.encoder.layer.23.attention.output.LayerNorm.weight', 'roberta.encoder.layer.12.intermediate.dense.weight', 'roberta.encoder.layer.19.attention.self.key.bias', 'roberta.encoder.layer.17.attention.self.key.bias', 'roberta.embeddings.position_ids', 'roberta.encoder.layer.20.attention.self.value.weight', 'roberta.encoder.layer.16.attention.output.LayerNorm.weight', 'roberta.encoder.layer.5.attention.self.query.weight', 'roberta.encoder.layer.12.attention.self.key.weight', 'roberta.encoder.layer.10.attention.output.LayerNorm.weight', 'roberta.encoder.layer.13.intermediate.dense.weight', 'roberta.encoder.layer.21.attention.self.value.weight', 'roberta.embeddings.LayerNorm.bias', 'roberta.encoder.layer.18.attention.self.key.bias', 'roberta.encoder.layer.4.attention.self.query.bias', 'roberta.encoder.layer.14.attention.output.LayerNorm.weight', 'roberta.encoder.layer.14.output.LayerNorm.bias', 'roberta.encoder.layer.14.attention.self.key.bias', 'roberta.encoder.layer.0.intermediate.dense.weight', 'roberta.encoder.layer.15.intermediate.dense.bias', 'roberta.encoder.layer.22.attention.self.value.bias', 'roberta.encoder.layer.21.output.dense.weight', 'roberta.encoder.layer.2.attention.self.key.weight', 'roberta.embeddings.token_type_embeddings.weight', 'roberta.encoder.layer.12.output.dense.bias', 'roberta.encoder.layer.9.attention.output.LayerNorm.bias', 'roberta.encoder.layer.1.output.dense.bias', 'roberta.encoder.layer.20.attention.self.key.weight', 'roberta.encoder.layer.16.attention.self.key.weight', 'roberta.encoder.layer.12.output.LayerNorm.weight', 'roberta.encoder.layer.6.intermediate.dense.weight', 'roberta.encoder.layer.13.attention.output.LayerNorm.bias', 'roberta.encoder.layer.6.attention.self.value.bias', 'roberta.encoder.layer.8.intermediate.dense.bias', 'roberta.encoder.layer.4.attention.output.LayerNorm.weight', 'roberta.encoder.layer.18.attention.self.query.bias', 'roberta.encoder.layer.5.attention.self.key.bias', 'roberta.encoder.layer.20.attention.self.query.weight', 'roberta.encoder.layer.0.attention.self.value.weight', 'roberta.encoder.layer.23.output.LayerNorm.weight', 'roberta.encoder.layer.5.output.LayerNorm.bias', 'roberta.encoder.layer.11.output.LayerNorm.bias', 'roberta.encoder.layer.21.attention.output.dense.weight', 'roberta.encoder.layer.14.attention.self.value.bias', 'roberta.encoder.layer.22.attention.output.dense.bias', 'roberta.encoder.layer.7.output.LayerNorm.bias', 'roberta.encoder.layer.23.attention.self.query.weight', 'roberta.encoder.layer.16.output.dense.bias', 'roberta.encoder.layer.15.attention.output.LayerNorm.weight', 'roberta.encoder.layer.21.intermediate.dense.bias', 'roberta.encoder.layer.10.attention.output.dense.weight', 'roberta.encoder.layer.18.output.dense.bias', 'roberta.encoder.layer.5.attention.self.query.bias', 'roberta.encoder.layer.15.intermediate.dense.weight', 'roberta.encoder.layer.14.attention.output.LayerNorm.bias', 'roberta.encoder.layer.6.output.LayerNorm.bias', 'roberta.encoder.layer.2.attention.output.dense.weight', 'roberta.encoder.layer.6.attention.self.key.bias', 'roberta.encoder.layer.7.attention.output.LayerNorm.weight', 'roberta.encoder.layer.18.attention.output.LayerNorm.weight', 'roberta.encoder.layer.14.intermediate.dense.weight', 'roberta.encoder.layer.22.attention.self.query.bias', 'roberta.encoder.layer.3.attention.output.LayerNorm.bias', 'roberta.encoder.layer.11.output.LayerNorm.weight', 'roberta.encoder.layer.4.intermediate.dense.bias', 'roberta.encoder.layer.7.intermediate.dense.bias', 'roberta.encoder.layer.5.attention.output.dense.weight', 'roberta.encoder.layer.22.intermediate.dense.weight', 'roberta.encoder.layer.12.attention.self.value.weight', 'lm_head.layer_norm.weight', 'roberta.encoder.layer.12.intermediate.dense.bias', 'roberta.encoder.layer.1.output.dense.weight', 'roberta.encoder.layer.8.attention.output.LayerNorm.weight', 'roberta.encoder.layer.21.attention.self.key.bias', 'lm_head.decoder.weight', 'roberta.encoder.layer.10.attention.output.dense.bias', 'roberta.encoder.layer.6.attention.self.value.weight', 'roberta.encoder.layer.12.attention.self.query.bias', 'roberta.encoder.layer.7.attention.output.dense.bias', 'roberta.encoder.layer.1.output.LayerNorm.bias', 'roberta.encoder.layer.14.output.dense.weight', 'lm_head.layer_norm.bias', 'roberta.encoder.layer.13.output.dense.weight', 'roberta.encoder.layer.23.attention.self.value.bias', 'roberta.encoder.layer.15.attention.self.key.bias', 'roberta.embeddings.word_embeddings.weight', 'roberta.encoder.layer.8.attention.self.key.weight', 'roberta.encoder.layer.21.output.LayerNorm.weight', 'roberta.encoder.layer.1.attention.self.value.bias', 'roberta.encoder.layer.5.attention.self.value.bias', 'roberta.encoder.layer.3.attention.self.query.weight', 'roberta.encoder.layer.6.attention.self.key.weight', 'roberta.encoder.layer.4.intermediate.dense.weight', 'roberta.encoder.layer.9.attention.output.dense.bias', 'roberta.encoder.layer.23.intermediate.dense.bias', 'roberta.encoder.layer.8.attention.self.query.weight', 'roberta.encoder.layer.20.attention.output.dense.bias', 'roberta.encoder.layer.9.output.dense.bias', 'roberta.encoder.layer.6.attention.output.LayerNorm.weight', 'roberta.encoder.layer.19.attention.output.LayerNorm.weight', 'roberta.encoder.layer.3.output.dense.weight', 'roberta.encoder.layer.3.intermediate.dense.weight', 'roberta.encoder.layer.9.attention.output.LayerNorm.weight', 'roberta.encoder.layer.2.output.dense.weight', 'roberta.encoder.layer.22.output.dense.bias', 'roberta.encoder.layer.0.attention.output.LayerNorm.weight', 'roberta.encoder.layer.1.attention.self.query.weight', 'roberta.encoder.layer.16.output.LayerNorm.bias', 'roberta.encoder.layer.4.attention.self.value.weight', 'roberta.encoder.layer.18.attention.self.value.bias', 'roberta.encoder.layer.12.attention.output.dense.bias', 'roberta.encoder.layer.13.attention.self.value.weight', 'roberta.encoder.layer.23.attention.output.dense.bias', 'roberta.encoder.layer.11.attention.self.value.bias', 'roberta.encoder.layer.5.attention.output.dense.bias', 'roberta.encoder.layer.10.output.LayerNorm.weight', 'roberta.encoder.layer.18.output.LayerNorm.bias', 'roberta.encoder.layer.8.attention.output.dense.bias', 'roberta.embeddings.LayerNorm.weight', 'roberta.encoder.layer.19.attention.self.query.weight', 'roberta.encoder.layer.10.output.LayerNorm.bias', 'roberta.encoder.layer.12.attention.self.key.bias', 'roberta.encoder.layer.11.attention.output.LayerNorm.weight', 'roberta.encoder.layer.19.attention.self.query.bias', 'roberta.encoder.layer.9.intermediate.dense.bias', 'roberta.encoder.layer.20.intermediate.dense.weight', 'roberta.encoder.layer.17.output.dense.weight', 'roberta.encoder.layer.14.attention.self.query.bias', 'roberta.encoder.layer.0.output.dense.weight', 'roberta.encoder.layer.6.attention.self.query.bias', 'roberta.encoder.layer.13.intermediate.dense.bias', 'roberta.encoder.layer.16.intermediate.dense.weight', 'roberta.encoder.layer.10.attention.self.query.bias', 'roberta.encoder.layer.8.attention.self.key.bias', 'roberta.encoder.layer.8.attention.output.dense.weight', 'roberta.encoder.layer.3.output.dense.bias', 'roberta.encoder.layer.9.attention.self.key.bias', 'roberta.encoder.layer.18.attention.self.query.weight', 'roberta.encoder.layer.0.intermediate.dense.bias', 'roberta.encoder.layer.22.intermediate.dense.bias', 'roberta.encoder.layer.0.output.LayerNorm.bias', 'roberta.encoder.layer.4.attention.output.LayerNorm.bias', 'roberta.encoder.layer.1.attention.self.key.bias', 'roberta.encoder.layer.9.attention.self.value.weight', 'roberta.encoder.layer.21.attention.output.LayerNorm.weight', 'lm_head.bias', 'roberta.encoder.layer.9.output.dense.weight', 'roberta.encoder.layer.13.attention.output.dense.bias', 'roberta.encoder.layer.0.attention.output.dense.bias', 'roberta.encoder.layer.8.output.dense.weight', 'roberta.encoder.layer.3.attention.self.value.weight', 'roberta.encoder.layer.13.attention.output.dense.weight', 'roberta.encoder.layer.1.attention.self.key.weight', 'roberta.encoder.layer.1.attention.output.LayerNorm.weight', 'roberta.encoder.layer.10.output.dense.weight', 'roberta.encoder.layer.3.attention.output.dense.weight', 'roberta.encoder.layer.8.intermediate.dense.weight', 'roberta.encoder.layer.11.attention.self.value.weight', 'roberta.encoder.layer.11.attention.self.query.bias', 'roberta.encoder.layer.1.attention.self.query.bias', 'roberta.encoder.layer.15.attention.self.query.bias', 'roberta.encoder.layer.8.output.LayerNorm.weight', 'roberta.encoder.layer.19.attention.self.key.weight', 'roberta.encoder.layer.11.attention.output.dense.bias', 'roberta.encoder.layer.16.output.LayerNorm.weight', 'roberta.encoder.layer.14.output.dense.bias', 'roberta.encoder.layer.4.attention.self.key.bias', 'roberta.encoder.layer.12.attention.self.value.bias', 'roberta.encoder.layer.2.output.LayerNorm.bias', 'roberta.encoder.layer.16.attention.output.LayerNorm.bias', 'roberta.encoder.layer.19.attention.self.value.bias', 'roberta.encoder.layer.20.attention.self.value.bias', 'roberta.encoder.layer.21.attention.self.query.bias', 'roberta.encoder.layer.0.attention.self.key.bias', 'roberta.encoder.layer.14.output.LayerNorm.weight', 'roberta.encoder.layer.9.attention.output.dense.weight', 'roberta.encoder.layer.12.attention.output.LayerNorm.bias', 'roberta.encoder.layer.14.attention.self.query.weight', 'roberta.encoder.layer.9.intermediate.dense.weight', 'roberta.encoder.layer.20.attention.output.LayerNorm.bias', 'roberta.encoder.layer.19.intermediate.dense.bias', 'roberta.encoder.layer.18.attention.output.LayerNorm.bias', 'roberta.encoder.layer.20.attention.self.key.bias', 'roberta.encoder.layer.0.attention.self.value.bias', 'roberta.embeddings.position_embeddings.weight', 'roberta.encoder.layer.3.attention.output.dense.bias', 'roberta.encoder.layer.17.attention.output.dense.bias', 'roberta.encoder.layer.3.attention.self.value.bias', 'roberta.encoder.layer.2.output.dense.bias', 'roberta.encoder.layer.15.attention.self.key.weight', 'roberta.encoder.layer.2.attention.self.query.weight', 'roberta.encoder.layer.2.attention.output.LayerNorm.bias', 'roberta.encoder.layer.2.intermediate.dense.bias', 'roberta.encoder.layer.11.intermediate.dense.bias', 'roberta.encoder.layer.9.attention.self.query.weight', 'roberta.encoder.layer.8.output.LayerNorm.bias', 'roberta.encoder.layer.20.attention.output.dense.weight', 'roberta.encoder.layer.17.attention.self.query.bias', 'roberta.encoder.layer.5.output.dense.weight', 'roberta.encoder.layer.15.attention.output.LayerNorm.bias', 'roberta.encoder.layer.22.output.dense.weight', 'roberta.encoder.layer.4.output.dense.weight', 'roberta.encoder.layer.5.output.dense.bias', 'roberta.encoder.layer.4.attention.output.dense.bias', 'roberta.encoder.layer.2.attention.output.dense.bias', 'roberta.encoder.layer.17.attention.output.LayerNorm.weight', 'roberta.encoder.layer.17.intermediate.dense.weight', 'roberta.encoder.layer.7.output.LayerNorm.weight', 'roberta.encoder.layer.2.output.LayerNorm.weight', 'roberta.encoder.layer.23.output.LayerNorm.bias', 'roberta.encoder.layer.7.attention.self.value.weight', 'roberta.encoder.layer.5.attention.self.key.weight', 'lm_head.decoder.bias', 'roberta.encoder.layer.9.output.LayerNorm.weight', 'roberta.encoder.layer.10.intermediate.dense.bias', 'roberta.encoder.layer.14.intermediate.dense.bias', 'roberta.encoder.layer.19.output.dense.bias', 'roberta.encoder.layer.17.attention.self.value.weight', 'roberta.encoder.layer.10.intermediate.dense.weight', 'roberta.encoder.layer.16.intermediate.dense.bias', 'roberta.encoder.layer.6.output.LayerNorm.weight', 'roberta.encoder.layer.15.output.dense.weight', 'roberta.encoder.layer.3.attention.self.query.bias', 'roberta.encoder.layer.22.attention.output.dense.weight', 'roberta.encoder.layer.7.attention.self.value.bias', 'roberta.encoder.layer.2.attention.self.key.bias', 'roberta.encoder.layer.4.output.LayerNorm.bias', 'roberta.encoder.layer.17.attention.output.dense.weight', 'roberta.encoder.layer.0.attention.self.key.weight', 'roberta.encoder.layer.13.output.dense.bias', 'roberta.encoder.layer.14.attention.output.dense.bias', 'roberta.encoder.layer.8.attention.self.query.bias', 'roberta.encoder.layer.8.output.dense.bias', 'roberta.encoder.layer.11.attention.self.key.weight', 'roberta.encoder.layer.15.attention.self.query.weight', 'roberta.encoder.layer.16.attention.self.value.weight', 'roberta.encoder.layer.22.output.LayerNorm.bias', 'roberta.encoder.layer.5.output.LayerNorm.weight', 'roberta.encoder.layer.11.attention.self.key.bias', 'roberta.encoder.layer.20.intermediate.dense.bias', 'roberta.encoder.layer.1.intermediate.dense.bias', 'roberta.encoder.layer.1.intermediate.dense.weight', 'roberta.encoder.layer.2.attention.self.value.bias', 'roberta.encoder.layer.17.intermediate.dense.bias', 'roberta.encoder.layer.9.attention.self.value.bias', 'roberta.encoder.layer.15.attention.output.dense.bias', 'roberta.encoder.layer.21.attention.self.query.weight', 'roberta.encoder.layer.19.output.dense.weight', 'roberta.encoder.layer.22.attention.output.LayerNorm.weight', 'roberta.encoder.layer.18.attention.self.value.weight', 'lm_head.dense.bias', 'roberta.encoder.layer.21.attention.self.key.weight', 'roberta.encoder.layer.1.attention.self.value.weight', 'roberta.encoder.layer.19.attention.output.dense.weight', 'roberta.encoder.layer.7.attention.output.dense.weight', 'roberta.encoder.layer.2.intermediate.dense.weight', 'roberta.encoder.layer.2.attention.self.query.bias', 'roberta.encoder.layer.17.output.dense.bias', 'roberta.encoder.layer.16.attention.self.key.bias', 'roberta.encoder.layer.16.output.dense.weight', 'roberta.encoder.layer.0.attention.self.query.weight', 'roberta.encoder.layer.7.output.dense.weight', 'roberta.encoder.layer.10.attention.self.value.bias', 'roberta.encoder.layer.19.output.LayerNorm.bias', 'roberta.encoder.layer.2.attention.self.value.weight', 'roberta.encoder.layer.23.attention.self.key.weight']\n",
      "- This IS expected if you are initializing BertModel from the checkpoint of a model trained on another task or with another architecture (e.g. initializing a BertForSequenceClassification model from a BertForPreTraining model).\n",
      "- This IS NOT expected if you are initializing BertModel from the checkpoint of a model that you expect to be exactly identical (initializing a BertForSequenceClassification model from a BertForSequenceClassification model).\n",
      "Some weights of BertModel were not initialized from the model checkpoint at klue/roberta-large and are newly initialized: ['encoder.layer.22.attention.output.LayerNorm.weight', 'encoder.layer.23.output.dense.bias', 'encoder.layer.13.output.LayerNorm.bias', 'encoder.layer.16.output.dense.weight', 'encoder.layer.11.attention.output.dense.bias', 'encoder.layer.0.intermediate.dense.bias', 'encoder.layer.5.attention.output.LayerNorm.bias', 'encoder.layer.9.attention.self.value.weight', 'encoder.layer.17.intermediate.dense.weight', 'encoder.layer.16.output.LayerNorm.bias', 'encoder.layer.4.attention.self.value.bias', 'encoder.layer.6.attention.output.LayerNorm.weight', 'encoder.layer.4.attention.self.value.weight', 'encoder.layer.5.attention.self.value.bias', 'encoder.layer.13.intermediate.dense.weight', 'encoder.layer.7.output.LayerNorm.weight', 'encoder.layer.12.attention.self.value.weight', 'encoder.layer.22.attention.self.value.weight', 'encoder.layer.17.attention.output.LayerNorm.weight', 'encoder.layer.21.intermediate.dense.weight', 'encoder.layer.17.attention.self.key.weight', 'encoder.layer.14.output.LayerNorm.bias', 'encoder.layer.15.attention.self.query.bias', 'encoder.layer.14.attention.self.value.bias', 'encoder.layer.10.attention.self.key.weight', 'encoder.layer.2.output.LayerNorm.bias', 'encoder.layer.18.attention.self.query.bias', 'encoder.layer.19.attention.output.dense.weight', 'encoder.layer.6.attention.output.dense.weight', 'encoder.layer.2.attention.output.LayerNorm.bias', 'encoder.layer.9.attention.output.LayerNorm.bias', 'encoder.layer.3.intermediate.dense.bias', 'pooler.dense.weight', 'encoder.layer.18.attention.output.dense.bias', 'encoder.layer.13.output.dense.bias', 'encoder.layer.0.attention.self.key.weight', 'encoder.layer.1.attention.self.key.bias', 'encoder.layer.15.attention.output.LayerNorm.bias', 'encoder.layer.8.attention.self.key.bias', 'encoder.layer.7.attention.self.value.weight', 'encoder.layer.18.output.dense.weight', 'encoder.layer.1.attention.output.dense.weight', 'encoder.layer.16.attention.self.query.weight', 'encoder.layer.2.intermediate.dense.bias', 'encoder.layer.0.output.LayerNorm.bias', 'encoder.layer.19.output.LayerNorm.bias', 'encoder.layer.4.attention.output.dense.bias', 'encoder.layer.22.attention.output.dense.bias', 'encoder.layer.11.output.dense.weight', 'encoder.layer.4.output.dense.weight', 'encoder.layer.20.attention.output.LayerNorm.weight', 'encoder.layer.21.attention.self.value.weight', 'encoder.layer.18.attention.self.key.weight', 'encoder.layer.16.attention.output.LayerNorm.bias', 'encoder.layer.19.attention.self.query.weight', 'encoder.layer.11.attention.self.value.weight', 'encoder.layer.5.attention.output.LayerNorm.weight', 'encoder.layer.21.output.LayerNorm.bias', 'encoder.layer.19.attention.self.key.weight', 'encoder.layer.15.attention.self.key.bias', 'encoder.layer.2.attention.output.LayerNorm.weight', 'encoder.layer.20.attention.self.query.bias', 'encoder.layer.16.intermediate.dense.weight', 'encoder.layer.1.attention.self.query.bias', 'encoder.layer.9.attention.self.key.bias', 'encoder.layer.18.attention.self.value.weight', 'encoder.layer.18.output.LayerNorm.weight', 'encoder.layer.16.attention.self.value.weight', 'encoder.layer.5.intermediate.dense.weight', 'encoder.layer.20.attention.output.dense.bias', 'encoder.layer.6.attention.self.value.weight', 'encoder.layer.14.attention.output.dense.bias', 'encoder.layer.8.output.dense.weight', 'encoder.layer.5.attention.output.dense.bias', 'encoder.layer.3.attention.output.dense.bias', 'encoder.layer.18.output.LayerNorm.bias', 'encoder.layer.7.intermediate.dense.weight', 'encoder.layer.0.output.LayerNorm.weight', 'encoder.layer.7.attention.self.query.bias', 'encoder.layer.7.attention.output.LayerNorm.bias', 'encoder.layer.10.output.dense.bias', 'encoder.layer.7.output.dense.bias', 'encoder.layer.11.intermediate.dense.weight', 'encoder.layer.18.intermediate.dense.bias', 'encoder.layer.20.attention.self.key.bias', 'encoder.layer.14.attention.self.query.bias', 'encoder.layer.2.attention.output.dense.bias', 'encoder.layer.5.output.dense.bias', 'encoder.layer.13.attention.self.query.bias', 'encoder.layer.0.attention.output.LayerNorm.weight', 'encoder.layer.19.attention.output.LayerNorm.bias', 'encoder.layer.10.intermediate.dense.weight', 'encoder.layer.1.attention.self.value.bias', 'encoder.layer.15.output.dense.weight', 'encoder.layer.9.output.dense.bias', 'encoder.layer.12.attention.self.key.weight', 'encoder.layer.9.attention.self.value.bias', 'encoder.layer.2.output.dense.bias', 'encoder.layer.2.output.dense.weight', 'encoder.layer.1.attention.output.dense.bias', 'encoder.layer.18.output.dense.bias', 'encoder.layer.22.attention.output.dense.weight', 'encoder.layer.22.attention.self.key.weight', 'encoder.layer.10.attention.self.value.bias', 'encoder.layer.23.intermediate.dense.bias', 'encoder.layer.3.output.dense.weight', 'encoder.layer.2.attention.self.value.weight', 'encoder.layer.3.attention.self.query.bias', 'encoder.layer.23.attention.output.dense.bias', 'encoder.layer.10.attention.output.LayerNorm.weight', 'encoder.layer.3.attention.self.query.weight', 'encoder.layer.5.attention.self.value.weight', 'encoder.layer.12.attention.output.LayerNorm.weight', 'encoder.layer.13.attention.self.value.bias', 'encoder.layer.16.output.LayerNorm.weight', 'embeddings.word_embeddings.weight', 'encoder.layer.10.attention.output.LayerNorm.bias', 'encoder.layer.10.attention.self.query.weight', 'encoder.layer.2.attention.self.key.bias', 'encoder.layer.1.output.LayerNorm.bias', 'encoder.layer.21.attention.self.key.bias', 'encoder.layer.8.attention.self.value.bias', 'encoder.layer.22.attention.self.key.bias', 'encoder.layer.15.attention.self.key.weight', 'encoder.layer.6.attention.self.key.weight', 'encoder.layer.11.attention.self.query.bias', 'encoder.layer.12.intermediate.dense.weight', 'encoder.layer.1.output.dense.weight', 'encoder.layer.6.attention.output.LayerNorm.bias', 'encoder.layer.14.attention.output.dense.weight', 'encoder.layer.9.attention.output.LayerNorm.weight', 'encoder.layer.23.attention.self.value.bias', 'encoder.layer.11.attention.self.key.weight', 'encoder.layer.15.output.LayerNorm.bias', 'encoder.layer.22.attention.self.query.bias', 'encoder.layer.5.attention.self.query.weight', 'encoder.layer.4.attention.output.LayerNorm.bias', 'encoder.layer.6.attention.self.key.bias', 'encoder.layer.21.attention.output.dense.weight', 'encoder.layer.16.output.dense.bias', 'encoder.layer.22.attention.self.value.bias', 'encoder.layer.2.attention.self.query.bias', 'encoder.layer.17.output.dense.weight', 'encoder.layer.16.attention.output.LayerNorm.weight', 'encoder.layer.4.output.LayerNorm.bias', 'encoder.layer.22.output.dense.bias', 'encoder.layer.7.attention.output.dense.bias', 'encoder.layer.6.output.dense.bias', 'encoder.layer.15.intermediate.dense.weight', 'encoder.layer.12.attention.self.value.bias', 'encoder.layer.8.output.LayerNorm.bias', 'encoder.layer.0.attention.self.value.weight', 'encoder.layer.6.attention.self.query.weight', 'encoder.layer.4.intermediate.dense.bias', 'encoder.layer.11.attention.output.LayerNorm.bias', 'encoder.layer.12.attention.output.LayerNorm.bias', 'encoder.layer.10.output.dense.weight', 'encoder.layer.13.attention.output.dense.weight', 'encoder.layer.1.attention.self.key.weight', 'encoder.layer.1.intermediate.dense.weight', 'encoder.layer.21.attention.self.query.bias', 'encoder.layer.22.output.LayerNorm.weight', 'encoder.layer.8.output.LayerNorm.weight', 'encoder.layer.4.output.LayerNorm.weight', 'encoder.layer.14.attention.self.key.weight', 'encoder.layer.3.output.LayerNorm.weight', 'encoder.layer.13.output.dense.weight', 'encoder.layer.17.output.LayerNorm.weight', 'encoder.layer.20.attention.output.LayerNorm.bias', 'encoder.layer.8.attention.output.LayerNorm.weight', 'encoder.layer.16.attention.self.key.weight', 'encoder.layer.19.output.LayerNorm.weight', 'encoder.layer.22.attention.self.query.weight', 'encoder.layer.10.attention.self.query.bias', 'encoder.layer.5.output.LayerNorm.bias', 'encoder.layer.1.intermediate.dense.bias', 'encoder.layer.17.output.dense.bias', 'encoder.layer.14.intermediate.dense.bias', 'encoder.layer.4.intermediate.dense.weight', 'encoder.layer.21.output.dense.bias', 'encoder.layer.20.attention.self.value.weight', 'encoder.layer.19.attention.self.value.weight', 'encoder.layer.3.output.LayerNorm.bias', 'encoder.layer.19.attention.output.dense.bias', 'encoder.layer.19.attention.output.LayerNorm.weight', 'encoder.layer.20.output.LayerNorm.bias', 'encoder.layer.6.intermediate.dense.bias', 'encoder.layer.11.output.LayerNorm.bias', 'encoder.layer.11.output.dense.bias', 'encoder.layer.3.attention.self.value.bias', 'encoder.layer.23.attention.self.value.weight', 'encoder.layer.23.attention.output.LayerNorm.bias', 'encoder.layer.3.attention.self.value.weight', 'encoder.layer.21.attention.self.key.weight', 'encoder.layer.8.intermediate.dense.weight', 'encoder.layer.20.attention.self.key.weight', 'encoder.layer.2.output.LayerNorm.weight', 'encoder.layer.23.attention.output.dense.weight', 'encoder.layer.7.attention.self.value.bias', 'encoder.layer.6.attention.self.value.bias', 'encoder.layer.14.output.dense.bias', 'encoder.layer.7.attention.self.query.weight', 'encoder.layer.19.output.dense.bias', 'encoder.layer.16.attention.self.query.bias', 'encoder.layer.13.output.LayerNorm.weight', 'encoder.layer.4.output.dense.bias', 'encoder.layer.1.attention.self.query.weight', 'encoder.layer.17.attention.self.value.weight', 'encoder.layer.5.output.dense.weight', 'encoder.layer.2.intermediate.dense.weight', 'encoder.layer.9.output.LayerNorm.weight', 'encoder.layer.13.attention.self.key.bias', 'encoder.layer.13.intermediate.dense.bias', 'encoder.layer.20.intermediate.dense.bias', 'encoder.layer.13.attention.self.value.weight', 'encoder.layer.10.intermediate.dense.bias', 'encoder.layer.9.attention.output.dense.weight', 'encoder.layer.4.attention.output.LayerNorm.weight', 'encoder.layer.5.attention.self.query.bias', 'encoder.layer.19.attention.self.query.bias', 'encoder.layer.12.output.LayerNorm.weight', 'encoder.layer.15.output.LayerNorm.weight', 'encoder.layer.23.attention.output.LayerNorm.weight', 'encoder.layer.0.attention.self.query.weight', 'encoder.layer.14.attention.self.value.weight', 'encoder.layer.20.output.dense.bias', 'encoder.layer.21.attention.output.LayerNorm.weight', 'encoder.layer.9.attention.self.query.bias', 'encoder.layer.7.attention.output.LayerNorm.weight', 'encoder.layer.0.output.dense.weight', 'encoder.layer.23.output.dense.weight', 'encoder.layer.4.attention.self.query.bias', 'encoder.layer.3.attention.output.dense.weight', 'encoder.layer.9.intermediate.dense.bias', 'encoder.layer.8.attention.self.query.weight', 'encoder.layer.10.attention.output.dense.weight', 'encoder.layer.1.attention.self.value.weight', 'encoder.layer.11.attention.output.LayerNorm.weight', 'encoder.layer.8.attention.output.dense.weight', 'encoder.layer.6.intermediate.dense.weight', 'encoder.layer.9.attention.output.dense.bias', 'encoder.layer.23.output.LayerNorm.bias', 'encoder.layer.14.attention.output.LayerNorm.bias', 'encoder.layer.20.intermediate.dense.weight', 'embeddings.LayerNorm.weight', 'encoder.layer.13.attention.self.query.weight', 'encoder.layer.22.intermediate.dense.weight', 'encoder.layer.23.output.LayerNorm.weight', 'encoder.layer.17.intermediate.dense.bias', 'encoder.layer.3.output.dense.bias', 'encoder.layer.5.attention.self.key.weight', 'encoder.layer.10.attention.output.dense.bias', 'encoder.layer.0.attention.output.dense.bias', 'encoder.layer.15.output.dense.bias', 'encoder.layer.12.intermediate.dense.bias', 'encoder.layer.20.output.LayerNorm.weight', 'encoder.layer.7.output.dense.weight', 'encoder.layer.17.attention.output.LayerNorm.bias', 'encoder.layer.10.attention.self.value.weight', 'encoder.layer.19.attention.self.key.bias', 'encoder.layer.16.attention.output.dense.bias', 'encoder.layer.7.attention.self.key.weight', 'encoder.layer.15.attention.output.LayerNorm.weight', 'encoder.layer.10.attention.self.key.bias', 'encoder.layer.17.attention.self.value.bias', 'encoder.layer.21.output.dense.weight', 'encoder.layer.12.output.dense.bias', 'encoder.layer.14.attention.self.key.bias', 'encoder.layer.13.attention.output.dense.bias', 'encoder.layer.0.attention.self.key.bias', 'encoder.layer.3.attention.output.LayerNorm.bias', 'encoder.layer.17.attention.self.query.weight', 'encoder.layer.20.attention.self.value.bias', 'encoder.layer.11.output.LayerNorm.weight', 'encoder.layer.12.attention.self.query.weight', 'encoder.layer.15.attention.output.dense.bias', 'encoder.layer.8.attention.output.dense.bias', 'encoder.layer.21.attention.output.dense.bias', 'encoder.layer.21.attention.self.query.weight', 'encoder.layer.18.attention.output.LayerNorm.weight', 'encoder.layer.18.attention.self.query.weight', 'encoder.layer.0.attention.self.value.bias', 'encoder.layer.2.attention.self.value.bias', 'encoder.layer.11.attention.self.value.bias', 'encoder.layer.15.attention.self.query.weight', 'encoder.layer.8.attention.self.value.weight', 'encoder.layer.12.output.LayerNorm.bias', 'encoder.layer.23.attention.self.key.bias', 'encoder.layer.9.attention.self.key.weight', 'encoder.layer.7.intermediate.dense.bias', 'encoder.layer.17.attention.self.key.bias', 'encoder.layer.21.intermediate.dense.bias', 'encoder.layer.12.output.dense.weight', 'encoder.layer.9.output.dense.weight', 'encoder.layer.14.output.LayerNorm.weight', 'encoder.layer.8.attention.self.key.weight', 'encoder.layer.5.intermediate.dense.bias', 'encoder.layer.3.attention.self.key.weight', 'encoder.layer.2.attention.self.key.weight', 'encoder.layer.11.intermediate.dense.bias', 'encoder.layer.4.attention.output.dense.weight', 'encoder.layer.0.attention.output.LayerNorm.bias', 'encoder.layer.1.attention.output.LayerNorm.weight', 'encoder.layer.12.attention.self.query.bias', 'encoder.layer.21.output.LayerNorm.weight', 'encoder.layer.20.attention.output.dense.weight', 'encoder.layer.6.output.dense.weight', 'encoder.layer.17.attention.output.dense.bias', 'encoder.layer.22.intermediate.dense.bias', 'encoder.layer.2.attention.output.dense.weight', 'encoder.layer.0.output.dense.bias', 'encoder.layer.15.attention.self.value.bias', 'encoder.layer.3.attention.self.key.bias', 'encoder.layer.19.intermediate.dense.weight', 'encoder.layer.22.output.dense.weight', 'encoder.layer.23.intermediate.dense.weight', 'encoder.layer.13.attention.output.LayerNorm.weight', 'embeddings.token_type_embeddings.weight', 'encoder.layer.17.attention.self.query.bias', 'encoder.layer.3.attention.output.LayerNorm.weight', 'encoder.layer.12.attention.output.dense.bias', 'encoder.layer.4.attention.self.key.bias', 'encoder.layer.8.attention.self.query.bias', 'encoder.layer.17.attention.output.dense.weight', 'encoder.layer.6.output.LayerNorm.weight', 'encoder.layer.7.attention.self.key.bias', 'encoder.layer.0.attention.output.dense.weight', 'encoder.layer.8.output.dense.bias', 'encoder.layer.19.intermediate.dense.bias', 'encoder.layer.14.output.dense.weight', 'encoder.layer.18.intermediate.dense.weight', 'encoder.layer.5.output.LayerNorm.weight', 'encoder.layer.14.intermediate.dense.weight', 'encoder.layer.6.attention.output.dense.bias', 'encoder.layer.11.attention.self.query.weight', 'encoder.layer.3.intermediate.dense.weight', 'encoder.layer.10.output.LayerNorm.bias', 'encoder.layer.13.attention.output.LayerNorm.bias', 'encoder.layer.10.output.LayerNorm.weight', 'encoder.layer.2.attention.self.query.weight', 'encoder.layer.23.attention.self.query.bias', 'encoder.layer.13.attention.self.key.weight', 'encoder.layer.4.attention.self.key.weight', 'encoder.layer.19.attention.self.value.bias', 'encoder.layer.22.output.LayerNorm.bias', 'encoder.layer.0.intermediate.dense.weight', 'embeddings.LayerNorm.bias', 'encoder.layer.9.output.LayerNorm.bias', 'encoder.layer.15.intermediate.dense.bias', 'encoder.layer.0.attention.self.query.bias', 'encoder.layer.18.attention.self.value.bias', 'encoder.layer.16.attention.self.key.bias', 'encoder.layer.16.attention.self.value.bias', 'pooler.dense.bias', 'encoder.layer.18.attention.output.LayerNorm.bias', 'encoder.layer.19.output.dense.weight', 'encoder.layer.1.output.LayerNorm.weight', 'encoder.layer.9.intermediate.dense.weight', 'encoder.layer.21.attention.self.value.bias', 'encoder.layer.23.attention.self.query.weight', 'encoder.layer.12.attention.self.key.bias', 'encoder.layer.6.output.LayerNorm.bias', 'encoder.layer.22.attention.output.LayerNorm.bias', 'encoder.layer.4.attention.self.query.weight', 'encoder.layer.14.attention.output.LayerNorm.weight', 'encoder.layer.14.attention.self.query.weight', 'encoder.layer.20.attention.self.query.weight', 'encoder.layer.16.attention.output.dense.weight', 'encoder.layer.7.output.LayerNorm.bias', 'encoder.layer.21.attention.output.LayerNorm.bias', 'encoder.layer.11.attention.output.dense.weight', 'encoder.layer.23.attention.self.key.weight', 'encoder.layer.8.attention.output.LayerNorm.bias', 'encoder.layer.18.attention.self.key.bias', 'encoder.layer.17.output.LayerNorm.bias', 'encoder.layer.8.intermediate.dense.bias', 'encoder.layer.11.attention.self.key.bias', 'encoder.layer.5.attention.self.key.bias', 'encoder.layer.15.attention.output.dense.weight', 'encoder.layer.20.output.dense.weight', 'encoder.layer.16.intermediate.dense.bias', 'encoder.layer.1.attention.output.LayerNorm.bias', 'encoder.layer.6.attention.self.query.bias', 'encoder.layer.1.output.dense.bias', 'encoder.layer.12.attention.output.dense.weight', 'encoder.layer.9.attention.self.query.weight', 'encoder.layer.5.attention.output.dense.weight', 'encoder.layer.18.attention.output.dense.weight', 'encoder.layer.7.attention.output.dense.weight', 'encoder.layer.15.attention.self.value.weight', 'embeddings.position_embeddings.weight']\n",
      "You should probably TRAIN this model on a down-stream task to be able to use it for predictions and inference.\n"
     ]
    },
    {
     "name": "stdout",
     "output_type": "stream",
     "text": [
      "Load klue/roberta-large with 22 layers\n"
     ]
    },
    {
     "data": {
      "application/json": {
       "ascii": false,
       "bar_format": null,
       "colour": null,
       "elapsed": 0.027495384216308594,
       "initial": 0,
       "n": 0,
       "ncols": null,
       "nrows": null,
       "postfix": null,
       "prefix": "Calculating BERTScore",
       "rate": null,
       "total": 12,
       "unit": "it",
       "unit_divisor": 1000,
       "unit_scale": false
      },
      "application/vnd.jupyter.widget-view+json": {
       "model_id": "83f75d9efa0b4e7d9bba0c1ccaa0acc2",
       "version_major": 2,
       "version_minor": 0
      },
      "text/plain": [
       "Calculating BERTScore:   0%|          | 0/12 [00:00<?, ?it/s]"
      ]
     },
     "metadata": {},
     "output_type": "display_data"
    },
    {
     "data": {
      "application/json": {
       "ascii": false,
       "bar_format": null,
       "colour": null,
       "elapsed": 0.023359298706054688,
       "initial": 0,
       "n": 0,
       "ncols": null,
       "nrows": null,
       "postfix": null,
       "prefix": "Train IDF",
       "rate": null,
       "total": 1,
       "unit": "it",
       "unit_divisor": 1000,
       "unit_scale": false
      },
      "application/vnd.jupyter.widget-view+json": {
       "model_id": "3944268ad3b2496ba50c0d5e633b0ba9",
       "version_major": 2,
       "version_minor": 0
      },
      "text/plain": [
       "Train IDF:   0%|          | 0/1 [00:00<?, ?it/s]"
      ]
     },
     "metadata": {},
     "output_type": "display_data"
    },
    {
     "name": "stderr",
     "output_type": "stream",
     "text": [
      "Token indices sequence length is longer than the specified maximum sequence length for this model (768 > 512). Running this sequence through the model will result in indexing errors\n",
      "/workspace/code/bait_news_gen/filtering/KoBERTScore/KoBERTScore/score.py:418: UserWarning: Creating a tensor from a list of numpy.ndarrays is extremely slow. Please consider converting the list to a single numpy.ndarray with numpy.array() before converting to a tensor. (Triggered internally at  ../torch/csrc/utils/tensor_new.cpp:201.)\n",
      "  idf = torch.tensor([idf_array]).T\n",
      "100%|██████████| 50/50 [00:00<00:00, 263792.70it/s]\n",
      "/tmp/ipykernel_20124/523662856.py:27: SettingWithCopyWarning: \n",
      "A value is trying to be set on a copy of a slice from a DataFrame.\n",
      "Try using .loc[row_indexer,col_indexer] = value instead\n",
      "\n",
      "See the caveats in the documentation: https://pandas.pydata.org/pandas-docs/stable/user_guide/indexing.html#returning-a-view-versus-a-copy\n",
      "  df['max_score'] = max_score\n"
     ]
    }
   ],
   "source": [
    "fake_df = get_max_score(fake_df.iloc[:50], real=False)"
   ]
  },
  {
   "cell_type": "code",
   "execution_count": 5,
   "metadata": {},
   "outputs": [
    {
     "data": {
      "text/plain": [
       "count    50.000000\n",
       "mean      0.946515\n",
       "std       0.008469\n",
       "min       0.922047\n",
       "25%       0.943011\n",
       "50%       0.947199\n",
       "75%       0.952072\n",
       "max       0.960777\n",
       "Name: max_score, dtype: float64"
      ]
     },
     "execution_count": 5,
     "metadata": {},
     "output_type": "execute_result"
    }
   ],
   "source": [
    "fake_df['max_score'].describe()"
   ]
  },
  {
   "cell_type": "code",
   "execution_count": 54,
   "metadata": {},
   "outputs": [
    {
     "data": {
      "image/png": "[encoded data removed]",
      "text/plain": [
       "<Figure size 432x288 with 1 Axes>"
      ]
     },
     "metadata": {
      "needs_background": "light"
     },
     "output_type": "display_data"
    }
   ],
   "source": [
    "# 구간별 count 계산\n",
    "bins = [0.9, 0.91, 0.92, 0.93, 0.94, 0.95, 0.96, 0.97, 0.98, 0.99, 1.0]\n",
    "labels = ['<[0.9]','[0.9, 0.91]', '[0.91, 0.92]', '[0.93, 0.94]', '[0.94, 0.95]','[0.95, 0.96]', '[0.96, 0.97]', '[0.97, 0.98]', '[0.98, 0.99]', '[0.99, 1]']\n",
    "df['bin'] = pd.cut(df['BERTScore'], bins=bins, labels=labels, right=False, include_lowest=True)\n",
    "counts = df['bin'].value_counts().sort_index()\n",
    "\n",
    "# barplot 생성\n",
    "counts.plot(kind='bar')\n",
    "plt.xlabel('BertScore')\n",
    "plt.ylabel('Count')\n",
    "plt.title('0.9 ~ 1.0 Count')\n",
    "plt.show()"
   ]
  },
  {
   "cell_type": "code",
   "execution_count": 55,
   "metadata": {},
   "outputs": [
    {
     "data": {
      "text/plain": [
       "<[0.9]           8454\n",
       "[0.9, 0.91]     19164\n",
       "[0.91, 0.92]    33781\n",
       "[0.93, 0.94]    36798\n",
       "[0.94, 0.95]    20221\n",
       "[0.95, 0.96]     5408\n",
       "[0.96, 0.97]     1505\n",
       "[0.97, 0.98]      530\n",
       "[0.98, 0.99]      199\n",
       "[0.99, 1]          60\n",
       "Name: bin, dtype: int64"
      ]
     },
     "execution_count": 55,
     "metadata": {},
     "output_type": "execute_result"
    }
   ],
   "source": [
    "counts"
   ]
  },
  {
   "cell_type": "code",
   "execution_count": 57,
   "metadata": {},
   "outputs": [
    {
     "data": {
      "text/plain": [
       "array(['PO', 'IS', 'EC', 'SO', 'LC', 'GB', 'ET'], dtype=object)"
      ]
     },
     "execution_count": 57,
     "metadata": {},
     "output_type": "execute_result"
    }
   ],
   "source": [
    "df['category'].unique()"
   ]
  },
  {
   "cell_type": "code",
   "execution_count": 61,
   "metadata": {},
   "outputs": [
    {
     "data": {
      "text/plain": [
       "ET    148\n",
       "LC     25\n",
       "EC     15\n",
       "IS      6\n",
       "SO      3\n",
       "GB      2\n",
       "Name: category, dtype: int64"
      ]
     },
     "execution_count": 61,
     "metadata": {},
     "output_type": "execute_result"
    }
   ],
   "source": [
    "df[df['bin']=='[0.98, 0.99]'].value_counts()"
   ]
  },
  {
   "cell_type": "code",
   "execution_count": 64,
   "metadata": {},
   "outputs": [
    {
     "data": {
      "text/html": [
       "<div>\n",
       "<style scoped>\n",
       "    .dataframe tbody tr th:only-of-type {\n",
       "        vertical-align: middle;\n",
       "    }\n",
       "\n",
       "    .dataframe tbody tr th {\n",
       "        vertical-align: top;\n",
       "    }\n",
       "\n",
       "    .dataframe thead th {\n",
       "        text-align: right;\n",
       "    }\n",
       "</style>\n",
       "<table border=\"1\" class=\"dataframe\">\n",
       "  <thead>\n",
       "    <tr style=\"text-align: right;\">\n",
       "      <th></th>\n",
       "      <th>news_id</th>\n",
       "      <th>original_title</th>\n",
       "      <th>content</th>\n",
       "      <th>sim_news_id</th>\n",
       "      <th>bait_title</th>\n",
       "      <th>category</th>\n",
       "      <th>label</th>\n",
       "      <th>bait_content</th>\n",
       "      <th>BERTScore</th>\n",
       "      <th>bin</th>\n",
       "    </tr>\n",
       "  </thead>\n",
       "  <tbody>\n",
       "    <tr>\n",
       "      <th>1806</th>\n",
       "      <td>ET_M03_037031</td>\n",
       "      <td>SMAP 해체설… \\\"기무라 타쿠야만 남고 초난강 외 3명 소속사 떠나\\\"</td>\n",
       "      <td>SMAP 해체설 기무라 타쿠야 초난강 일본의 인기 그룹 ‘스맙(SMAP)’의 해체설...</td>\n",
       "      <td>ET_M03_037029</td>\n",
       "      <td>SMAP 해체설…\\\"기무라 타쿠야만 남고 초난강 외 3명은 소속사 떠나\\\"</td>\n",
       "      <td>ET</td>\n",
       "      <td>0</td>\n",
       "      <td>SMAP 해체설 기무라 타쿠야 초난강 일본의 인기 그룹 ‘스맙(SMAP)’의 해체설...</td>\n",
       "      <td>0.987631</td>\n",
       "      <td>[0.98, 0.99]</td>\n",
       "    </tr>\n",
       "    <tr>\n",
       "      <th>3372</th>\n",
       "      <td>ET_M03_281300</td>\n",
       "      <td>'부탁해요 엄마' 민아, 최태준의 결혼 여부 알아챘다 … 운명의 장난?</td>\n",
       "      <td>'부탁해요 엄마' 민아 '부탁해요 엄마'에서 민아가 최태준이 결혼한 사실을 알았다....</td>\n",
       "      <td>ET_M03_281317</td>\n",
       "      <td>'부탁해요 엄마' 민아, 최태준의 결혼 사실 알아버려 … 운명의 장난</td>\n",
       "      <td>ET</td>\n",
       "      <td>0</td>\n",
       "      <td>'부탁해요 엄마' 민아 '부탁해요 엄마'에서 민아가 최태준이 결혼한 사실을 알았다....</td>\n",
       "      <td>0.981007</td>\n",
       "      <td>[0.98, 0.99]</td>\n",
       "    </tr>\n",
       "    <tr>\n",
       "      <th>4515</th>\n",
       "      <td>ET_M03_279210</td>\n",
       "      <td>\\\"라디오스타\\\" 박소담, '사도' 촬영 중 실제로 맞아 멍들어</td>\n",
       "      <td>박소담 라디오스타 배우 박소담이 MBC '라디오스타'에 출연하여 화제가 되고 있다....</td>\n",
       "      <td>ET_M03_279180</td>\n",
       "      <td>\\\"라디오스타\\\" 박소담, '사도' 촬영 중에 실제로 맞아 멍든 경험</td>\n",
       "      <td>ET</td>\n",
       "      <td>0</td>\n",
       "      <td>박소담 라디오스타 배우 박소담이 MBC '라디오스타'에 출연하여 화제가 되고 있다....</td>\n",
       "      <td>0.983672</td>\n",
       "      <td>[0.98, 0.99]</td>\n",
       "    </tr>\n",
       "    <tr>\n",
       "      <th>5240</th>\n",
       "      <td>ET_M03_280208</td>\n",
       "      <td>'마리와 나' 강호동 서인국, 도도한 고양이에 \\\"우울증 걸릴것 같다\\\"</td>\n",
       "      <td>사진 JTBC 강호동 서인국, '마리와 나' 도도한 고양이에 \\\"우울증 걸릴것 같다...</td>\n",
       "      <td>ET_M03_280187</td>\n",
       "      <td>강호동 서인국, '마리와 나' 도도한 고양이에 \\\"우울증 걸릴것 같다\\\"</td>\n",
       "      <td>ET</td>\n",
       "      <td>0</td>\n",
       "      <td>사진 JTBC 강호동 서인국, '마리와 나' 도도한 고양이에 \\\"우울증 걸릴것 같다...</td>\n",
       "      <td>0.987734</td>\n",
       "      <td>[0.98, 0.99]</td>\n",
       "    </tr>\n",
       "    <tr>\n",
       "      <th>5862</th>\n",
       "      <td>ET_M03_279457</td>\n",
       "      <td>김광진 의원실 \\\"'응답하라 1988' 류준열 결혼식 올리는 중\\\"…스포 공개 '헉'</td>\n",
       "      <td>더불어민주당 소속 김광진 의원실이 ‘응답하라 1988’의 핵심 ‘남편 찾기’와 관련...</td>\n",
       "      <td>ET_M03_279540</td>\n",
       "      <td>김광진 의원실 \\\"'응답하라 1988' 류준열 결혼식 올리는 중\\\"…스포 논란</td>\n",
       "      <td>ET</td>\n",
       "      <td>0</td>\n",
       "      <td>더불어민주당 소속 김광진 의원실이 ‘응답하라 1988’의 핵심 ‘남편 찾기’와 관련...</td>\n",
       "      <td>0.988083</td>\n",
       "      <td>[0.98, 0.99]</td>\n",
       "    </tr>\n",
       "  </tbody>\n",
       "</table>\n",
       "</div>"
      ],
      "text/plain": [
       "            news_id                                   original_title  \\\n",
       "1806  ET_M03_037031        SMAP 해체설… \\\"기무라 타쿠야만 남고 초난강 외 3명 소속사 떠나\\\"   \n",
       "3372  ET_M03_281300          '부탁해요 엄마' 민아, 최태준의 결혼 여부 알아챘다 … 운명의 장난?   \n",
       "4515  ET_M03_279210              \\\"라디오스타\\\" 박소담, '사도' 촬영 중 실제로 맞아 멍들어   \n",
       "5240  ET_M03_280208         '마리와 나' 강호동 서인국, 도도한 고양이에 \\\"우울증 걸릴것 같다\\\"   \n",
       "5862  ET_M03_279457  김광진 의원실 \\\"'응답하라 1988' 류준열 결혼식 올리는 중\\\"…스포 공개 '헉'   \n",
       "\n",
       "                                                content    sim_news_id  \\\n",
       "1806  SMAP 해체설 기무라 타쿠야 초난강 일본의 인기 그룹 ‘스맙(SMAP)’의 해체설...  ET_M03_037029   \n",
       "3372  '부탁해요 엄마' 민아 '부탁해요 엄마'에서 민아가 최태준이 결혼한 사실을 알았다....  ET_M03_281317   \n",
       "4515  박소담 라디오스타 배우 박소담이 MBC '라디오스타'에 출연하여 화제가 되고 있다....  ET_M03_279180   \n",
       "5240  사진 JTBC 강호동 서인국, '마리와 나' 도도한 고양이에 \\\"우울증 걸릴것 같다...  ET_M03_280187   \n",
       "5862  더불어민주당 소속 김광진 의원실이 ‘응답하라 1988’의 핵심 ‘남편 찾기’와 관련...  ET_M03_279540   \n",
       "\n",
       "                                       bait_title category  label  \\\n",
       "1806    SMAP 해체설…\\\"기무라 타쿠야만 남고 초난강 외 3명은 소속사 떠나\\\"       ET      0   \n",
       "3372       '부탁해요 엄마' 민아, 최태준의 결혼 사실 알아버려 … 운명의 장난       ET      0   \n",
       "4515       \\\"라디오스타\\\" 박소담, '사도' 촬영 중에 실제로 맞아 멍든 경험       ET      0   \n",
       "5240     강호동 서인국, '마리와 나' 도도한 고양이에 \\\"우울증 걸릴것 같다\\\"       ET      0   \n",
       "5862  김광진 의원실 \\\"'응답하라 1988' 류준열 결혼식 올리는 중\\\"…스포 논란       ET      0   \n",
       "\n",
       "                                           bait_content  BERTScore  \\\n",
       "1806  SMAP 해체설 기무라 타쿠야 초난강 일본의 인기 그룹 ‘스맙(SMAP)’의 해체설...   0.987631   \n",
       "3372  '부탁해요 엄마' 민아 '부탁해요 엄마'에서 민아가 최태준이 결혼한 사실을 알았다....   0.981007   \n",
       "4515  박소담 라디오스타 배우 박소담이 MBC '라디오스타'에 출연하여 화제가 되고 있다....   0.983672   \n",
       "5240  사진 JTBC 강호동 서인국, '마리와 나' 도도한 고양이에 \\\"우울증 걸릴것 같다...   0.987734   \n",
       "5862  더불어민주당 소속 김광진 의원실이 ‘응답하라 1988’의 핵심 ‘남편 찾기’와 관련...   0.988083   \n",
       "\n",
       "               bin  \n",
       "1806  [0.98, 0.99]  \n",
       "3372  [0.98, 0.99]  \n",
       "4515  [0.98, 0.99]  \n",
       "5240  [0.98, 0.99]  \n",
       "5862  [0.98, 0.99]  "
      ]
     },
     "execution_count": 64,
     "metadata": {},
     "output_type": "execute_result"
    }
   ],
   "source": [
    "index = (df['category'] =='ET') & (df['bin']=='[0.98, 0.99]')\n",
    "df[index].head()"
   ]
  },
  {
   "cell_type": "code",
   "execution_count": 66,
   "metadata": {},
   "outputs": [
    {
     "data": {
      "text/html": [
       "<div>\n",
       "<style scoped>\n",
       "    .dataframe tbody tr th:only-of-type {\n",
       "        vertical-align: middle;\n",
       "    }\n",
       "\n",
       "    .dataframe tbody tr th {\n",
       "        vertical-align: top;\n",
       "    }\n",
       "\n",
       "    .dataframe thead th {\n",
       "        text-align: right;\n",
       "    }\n",
       "</style>\n",
       "<table border=\"1\" class=\"dataframe\">\n",
       "  <thead>\n",
       "    <tr style=\"text-align: right;\">\n",
       "      <th></th>\n",
       "      <th>original_title</th>\n",
       "      <th>bait_title</th>\n",
       "      <th>BERTScore</th>\n",
       "    </tr>\n",
       "  </thead>\n",
       "  <tbody>\n",
       "    <tr>\n",
       "      <th>1806</th>\n",
       "      <td>SMAP 해체설… \\\"기무라 타쿠야만 남고 초난강 외 3명 소속사 떠나\\\"</td>\n",
       "      <td>SMAP 해체설…\\\"기무라 타쿠야만 남고 초난강 외 3명은 소속사 떠나\\\"</td>\n",
       "      <td>0.987631</td>\n",
       "    </tr>\n",
       "    <tr>\n",
       "      <th>3372</th>\n",
       "      <td>'부탁해요 엄마' 민아, 최태준의 결혼 여부 알아챘다 … 운명의 장난?</td>\n",
       "      <td>'부탁해요 엄마' 민아, 최태준의 결혼 사실 알아버려 … 운명의 장난</td>\n",
       "      <td>0.981007</td>\n",
       "    </tr>\n",
       "    <tr>\n",
       "      <th>4515</th>\n",
       "      <td>\\\"라디오스타\\\" 박소담, '사도' 촬영 중 실제로 맞아 멍들어</td>\n",
       "      <td>\\\"라디오스타\\\" 박소담, '사도' 촬영 중에 실제로 맞아 멍든 경험</td>\n",
       "      <td>0.983672</td>\n",
       "    </tr>\n",
       "    <tr>\n",
       "      <th>5240</th>\n",
       "      <td>'마리와 나' 강호동 서인국, 도도한 고양이에 \\\"우울증 걸릴것 같다\\\"</td>\n",
       "      <td>강호동 서인국, '마리와 나' 도도한 고양이에 \\\"우울증 걸릴것 같다\\\"</td>\n",
       "      <td>0.987734</td>\n",
       "    </tr>\n",
       "    <tr>\n",
       "      <th>5862</th>\n",
       "      <td>김광진 의원실 \\\"'응답하라 1988' 류준열 결혼식 올리는 중\\\"…스포 공개 '헉'</td>\n",
       "      <td>김광진 의원실 \\\"'응답하라 1988' 류준열 결혼식 올리는 중\\\"…스포 논란</td>\n",
       "      <td>0.988083</td>\n",
       "    </tr>\n",
       "  </tbody>\n",
       "</table>\n",
       "</div>"
      ],
      "text/plain": [
       "                                       original_title  \\\n",
       "1806        SMAP 해체설… \\\"기무라 타쿠야만 남고 초난강 외 3명 소속사 떠나\\\"   \n",
       "3372          '부탁해요 엄마' 민아, 최태준의 결혼 여부 알아챘다 … 운명의 장난?   \n",
       "4515              \\\"라디오스타\\\" 박소담, '사도' 촬영 중 실제로 맞아 멍들어   \n",
       "5240         '마리와 나' 강호동 서인국, 도도한 고양이에 \\\"우울증 걸릴것 같다\\\"   \n",
       "5862  김광진 의원실 \\\"'응답하라 1988' 류준열 결혼식 올리는 중\\\"…스포 공개 '헉'   \n",
       "\n",
       "                                       bait_title  BERTScore  \n",
       "1806    SMAP 해체설…\\\"기무라 타쿠야만 남고 초난강 외 3명은 소속사 떠나\\\"   0.987631  \n",
       "3372       '부탁해요 엄마' 민아, 최태준의 결혼 사실 알아버려 … 운명의 장난   0.981007  \n",
       "4515       \\\"라디오스타\\\" 박소담, '사도' 촬영 중에 실제로 맞아 멍든 경험   0.983672  \n",
       "5240     강호동 서인국, '마리와 나' 도도한 고양이에 \\\"우울증 걸릴것 같다\\\"   0.987734  \n",
       "5862  김광진 의원실 \\\"'응답하라 1988' 류준열 결혼식 올리는 중\\\"…스포 논란   0.988083  "
      ]
     },
     "execution_count": 66,
     "metadata": {},
     "output_type": "execute_result"
    }
   ],
   "source": [
    "df[df['bin']=='[0.98, 0.99]'][['original_title','bait_title','BERTScore']].head() #[['original_title','bait_title','BERTScore']]"
   ]
  },
  {
   "cell_type": "code",
   "execution_count": null,
   "metadata": {},
   "outputs": [],
   "source": []
  }
 ],
 "metadata": {
  "kernelspec": {
   "display_name": "base",
   "language": "python",
   "name": "python3"
  },
  "language_info": {
   "codemirror_mode": {
    "name": "ipython",
    "version": 3
   },
   "file_extension": ".py",
   "mimetype": "text/x-python",
   "name": "python",
   "nbconvert_exporter": "python",
   "pygments_lexer": "ipython3",
   "version": "3.8.13"
  },
  "orig_nbformat": 4
 },
 "nbformat": 4,
 "nbformat_minor": 2
}
